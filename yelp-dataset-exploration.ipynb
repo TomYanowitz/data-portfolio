{
 "cells": [
  {
   "cell_type": "markdown",
   "id": "c26d59e5",
   "metadata": {
    "papermill": {
     "duration": 0.012364,
     "end_time": "2024-01-09T10:01:51.705717",
     "exception": false,
     "start_time": "2024-01-09T10:01:51.693353",
     "status": "completed"
    },
    "tags": []
   },
   "source": [
    "# EXPLORING A YELP DATASET"
   ]
  },
  {
   "cell_type": "markdown",
   "id": "a927ceb8",
   "metadata": {
    "papermill": {
     "duration": 0.011708,
     "end_time": "2024-01-09T10:01:51.729270",
     "exception": false,
     "start_time": "2024-01-09T10:01:51.717562",
     "status": "completed"
    },
    "tags": []
   },
   "source": [
    "All my code is from the project at the end of the \"[SQL for Data Science](https://www.coursera.org/learn/sql-for-data-science)\" course by UC Davis.\n",
    "The issue to share this code on Github or Kaggle is that all the queries were ran directly on a webpage, with no way to download the database.\n",
    "Their database is a truncated way of a [downloadable Yelp database](https://www.yelp.com/dataset/download).\n",
    "\n",
    "This dataset is 9GB of Json files.\n",
    "I decided to truncate this huge dataset to 10k rows per table as well. Maybe I'll try to query the full dataset eventually.\n",
    "I then transfort the truncated json into a database with the .sqlite extension with DB Browser.\n",
    "This database is 270MB, apparently too big for a github repo but fine in Kaggle. Also it seems Jupyter Notebooks/Lab can be interactive here on Kaggle, but static on Github.\n",
    "\n",
    "My 10k trunc of the dataset is not the same as the coursera one, therefore the results are different."
   ]
  },
  {
   "cell_type": "code",
   "execution_count": 1,
   "id": "2813aea9",
   "metadata": {
    "execution": {
     "iopub.execute_input": "2024-01-09T10:01:51.755108Z",
     "iopub.status.busy": "2024-01-09T10:01:51.754676Z",
     "iopub.status.idle": "2024-01-09T10:01:52.206508Z",
     "shell.execute_reply": "2024-01-09T10:01:52.205000Z"
    },
    "papermill": {
     "duration": 0.468469,
     "end_time": "2024-01-09T10:01:52.209656",
     "exception": false,
     "start_time": "2024-01-09T10:01:51.741187",
     "status": "completed"
    },
    "tags": []
   },
   "outputs": [],
   "source": [
    "import numpy as np\n",
    "import pandas as pd\n",
    "import sqlite3\n",
    "import matplotlib.pyplot as plt"
   ]
  },
  {
   "cell_type": "code",
   "execution_count": 2,
   "id": "e0d32dcd",
   "metadata": {
    "execution": {
     "iopub.execute_input": "2024-01-09T10:01:52.236801Z",
     "iopub.status.busy": "2024-01-09T10:01:52.235833Z",
     "iopub.status.idle": "2024-01-09T10:01:52.242701Z",
     "shell.execute_reply": "2024-01-09T10:01:52.241041Z"
    },
    "papermill": {
     "duration": 0.023774,
     "end_time": "2024-01-09T10:01:52.245378",
     "exception": false,
     "start_time": "2024-01-09T10:01:52.221604",
     "status": "completed"
    },
    "tags": []
   },
   "outputs": [],
   "source": [
    "pd.options.display.max_rows = 50 # maximum number of rows to display"
   ]
  },
  {
   "cell_type": "code",
   "execution_count": 3,
   "id": "c85b017e",
   "metadata": {
    "execution": {
     "iopub.execute_input": "2024-01-09T10:01:52.272064Z",
     "iopub.status.busy": "2024-01-09T10:01:52.271665Z",
     "iopub.status.idle": "2024-01-09T10:01:53.222197Z",
     "shell.execute_reply": "2024-01-09T10:01:53.220877Z"
    },
    "papermill": {
     "duration": 0.967005,
     "end_time": "2024-01-09T10:01:53.224970",
     "exception": false,
     "start_time": "2024-01-09T10:01:52.257965",
     "status": "completed"
    },
    "tags": []
   },
   "outputs": [],
   "source": [
    "%reload_ext sql\n",
    "\n",
    "%sql sqlite:////kaggle/input/yelp-dataset-truncated-to-10k-rows/yelp_10k.sqlite"
   ]
  },
  {
   "cell_type": "code",
   "execution_count": 4,
   "id": "cdbdee9b",
   "metadata": {
    "execution": {
     "iopub.execute_input": "2024-01-09T10:01:53.251258Z",
     "iopub.status.busy": "2024-01-09T10:01:53.250190Z",
     "iopub.status.idle": "2024-01-09T10:01:53.516140Z",
     "shell.execute_reply": "2024-01-09T10:01:53.514952Z"
    },
    "papermill": {
     "duration": 0.28164,
     "end_time": "2024-01-09T10:01:53.518916",
     "exception": false,
     "start_time": "2024-01-09T10:01:53.237276",
     "status": "completed"
    },
    "tags": []
   },
   "outputs": [
    {
     "name": "stdout",
     "output_type": "stream",
     "text": [
      " * sqlite:////kaggle/input/yelp-dataset-truncated-to-10k-rows/yelp_10k.sqlite\n",
      "Done.\n"
     ]
    },
    {
     "data": {
      "text/html": [
       "<table>\n",
       "    <thead>\n",
       "        <tr>\n",
       "            <th>nb_null</th>\n",
       "        </tr>\n",
       "    </thead>\n",
       "    <tbody>\n",
       "        <tr>\n",
       "            <td>0</td>\n",
       "        </tr>\n",
       "    </tbody>\n",
       "</table>"
      ],
      "text/plain": [
       "[(0,)]"
      ]
     },
     "execution_count": 4,
     "metadata": {},
     "output_type": "execute_result"
    }
   ],
   "source": [
    "%%sql\n",
    "SELECT\n",
    "  COUNT(*) AS nb_null\n",
    "FROM\n",
    "  USER\n",
    "WHERE\n",
    "  id IS NULL\n",
    "  OR NAME IS NULL\n",
    "  OR review_count IS NULL\n",
    "  OR yelping_since IS NULL\n",
    "  OR useful IS NULL\n",
    "  OR funny IS NULL\n",
    "  OR cool IS NULL\n",
    "  OR fans IS NULL\n",
    "  OR average_stars IS NULL\n",
    "  OR compliment_hot IS NULL\n",
    "  OR compliment_more IS NULL\n",
    "  OR compliment_profile IS NULL\n",
    "  OR compliment_cute IS NULL\n",
    "  OR compliment_list IS NULL\n",
    "  OR compliment_note IS NULL\n",
    "  OR compliment_plain IS NULL\n",
    "  OR compliment_cool IS NULL\n",
    "  OR compliment_funny IS NULL\n",
    "  OR compliment_writer IS NULL\n",
    "  OR compliment_photos IS NULL"
   ]
  },
  {
   "cell_type": "markdown",
   "id": "927e1762",
   "metadata": {
    "papermill": {
     "duration": 0.012688,
     "end_time": "2024-01-09T10:01:53.543827",
     "exception": false,
     "start_time": "2024-01-09T10:01:53.531139",
     "status": "completed"
    },
    "tags": []
   },
   "source": [
    "We can see than none have null values"
   ]
  },
  {
   "cell_type": "code",
   "execution_count": 5,
   "id": "4cac1ced",
   "metadata": {
    "execution": {
     "iopub.execute_input": "2024-01-09T10:01:53.576553Z",
     "iopub.status.busy": "2024-01-09T10:01:53.575960Z",
     "iopub.status.idle": "2024-01-09T10:01:53.826258Z",
     "shell.execute_reply": "2024-01-09T10:01:53.824355Z"
    },
    "papermill": {
     "duration": 0.270971,
     "end_time": "2024-01-09T10:01:53.830514",
     "exception": false,
     "start_time": "2024-01-09T10:01:53.559543",
     "status": "completed"
    },
    "tags": []
   },
   "outputs": [
    {
     "name": "stdout",
     "output_type": "stream",
     "text": [
      " * sqlite:////kaggle/input/yelp-dataset-truncated-to-10k-rows/yelp_10k.sqlite\n",
      "Done.\n"
     ]
    },
    {
     "data": {
      "text/html": [
       "<table>\n",
       "    <thead>\n",
       "        <tr>\n",
       "            <th>city</th>\n",
       "            <th>tot_nb_reviews</th>\n",
       "        </tr>\n",
       "    </thead>\n",
       "    <tbody>\n",
       "        <tr>\n",
       "            <td>Philadelphia</td>\n",
       "            <td>62134</td>\n",
       "        </tr>\n",
       "        <tr>\n",
       "            <td>New Orleans</td>\n",
       "            <td>51780</td>\n",
       "        </tr>\n",
       "        <tr>\n",
       "            <td>Nashville</td>\n",
       "            <td>32161</td>\n",
       "        </tr>\n",
       "        <tr>\n",
       "            <td>Tampa</td>\n",
       "            <td>29893</td>\n",
       "        </tr>\n",
       "        <tr>\n",
       "            <td>Tucson</td>\n",
       "            <td>26366</td>\n",
       "        </tr>\n",
       "        <tr>\n",
       "            <td>Reno</td>\n",
       "            <td>25826</td>\n",
       "        </tr>\n",
       "        <tr>\n",
       "            <td>Indianapolis</td>\n",
       "            <td>23151</td>\n",
       "        </tr>\n",
       "        <tr>\n",
       "            <td>Santa Barbara</td>\n",
       "            <td>19463</td>\n",
       "        </tr>\n",
       "        <tr>\n",
       "            <td>Saint Louis</td>\n",
       "            <td>14309</td>\n",
       "        </tr>\n",
       "        <tr>\n",
       "            <td>Edmonton</td>\n",
       "            <td>6830</td>\n",
       "        </tr>\n",
       "    </tbody>\n",
       "</table>"
      ],
      "text/plain": [
       "[('Philadelphia', 62134),\n",
       " ('New Orleans', 51780),\n",
       " ('Nashville', 32161),\n",
       " ('Tampa', 29893),\n",
       " ('Tucson', 26366),\n",
       " ('Reno', 25826),\n",
       " ('Indianapolis', 23151),\n",
       " ('Santa Barbara', 19463),\n",
       " ('Saint Louis', 14309),\n",
       " ('Edmonton', 6830)]"
      ]
     },
     "execution_count": 5,
     "metadata": {},
     "output_type": "execute_result"
    }
   ],
   "source": [
    "%%sql\n",
    "SELECT\n",
    "  city,\n",
    "  SUM(review_count) tot_nb_reviews\n",
    "FROM\n",
    "  business\n",
    "GROUP BY\n",
    "  city\n",
    "ORDER BY\n",
    "  tot_nb_reviews DESC\n",
    "LIMIT\n",
    "  10"
   ]
  },
  {
   "cell_type": "code",
   "execution_count": 6,
   "id": "785e5ec6",
   "metadata": {
    "execution": {
     "iopub.execute_input": "2024-01-09T10:01:53.858904Z",
     "iopub.status.busy": "2024-01-09T10:01:53.858458Z",
     "iopub.status.idle": "2024-01-09T10:01:54.073021Z",
     "shell.execute_reply": "2024-01-09T10:01:54.071815Z"
    },
    "papermill": {
     "duration": 0.233186,
     "end_time": "2024-01-09T10:01:54.076847",
     "exception": false,
     "start_time": "2024-01-09T10:01:53.843661",
     "status": "completed"
    },
    "tags": []
   },
   "outputs": [
    {
     "name": "stdout",
     "output_type": "stream",
     "text": [
      " * sqlite:////kaggle/input/yelp-dataset-truncated-to-10k-rows/yelp_10k.sqlite\n",
      "Done.\n"
     ]
    },
    {
     "data": {
      "text/html": [
       "<table>\n",
       "    <thead>\n",
       "        <tr>\n",
       "            <th>name</th>\n",
       "            <th>review_count</th>\n",
       "        </tr>\n",
       "    </thead>\n",
       "    <tbody>\n",
       "        <tr>\n",
       "            <td>Bruce</td>\n",
       "            <td>16567</td>\n",
       "        </tr>\n",
       "        <tr>\n",
       "            <td>Kim</td>\n",
       "            <td>9941</td>\n",
       "        </tr>\n",
       "        <tr>\n",
       "            <td>Nijole</td>\n",
       "            <td>8363</td>\n",
       "        </tr>\n",
       "    </tbody>\n",
       "</table>"
      ],
      "text/plain": [
       "[('Bruce', 16567), ('Kim', 9941), ('Nijole', 8363)]"
      ]
     },
     "execution_count": 6,
     "metadata": {},
     "output_type": "execute_result"
    }
   ],
   "source": [
    "%%sql\n",
    "SELECT\n",
    "  name,\n",
    "  review_count\n",
    "FROM\n",
    "  USER\n",
    "ORDER BY\n",
    "  review_count DESC\n",
    "LIMIT\n",
    "  3"
   ]
  },
  {
   "cell_type": "markdown",
   "id": "75ec673f",
   "metadata": {
    "papermill": {
     "duration": 0.012823,
     "end_time": "2024-01-09T10:01:54.103388",
     "exception": false,
     "start_time": "2024-01-09T10:01:54.090565",
     "status": "completed"
    },
    "tags": []
   },
   "source": [
    "*8. Does posting more reviews correlate with more fans?*\n",
    "\n",
    "Hard to tell, we would need to calculate the correlation factor between the two columns. I don't know how to do this with SQL alone.\n",
    "\n",
    "*Please explain your findings and interpretation of the results:*"
   ]
  },
  {
   "cell_type": "code",
   "execution_count": 7,
   "id": "aac8e90f",
   "metadata": {
    "execution": {
     "iopub.execute_input": "2024-01-09T10:01:54.135134Z",
     "iopub.status.busy": "2024-01-09T10:01:54.133859Z",
     "iopub.status.idle": "2024-01-09T10:01:54.153663Z",
     "shell.execute_reply": "2024-01-09T10:01:54.152123Z"
    },
    "papermill": {
     "duration": 0.038928,
     "end_time": "2024-01-09T10:01:54.157175",
     "exception": false,
     "start_time": "2024-01-09T10:01:54.118247",
     "status": "completed"
    },
    "tags": []
   },
   "outputs": [
    {
     "name": "stdout",
     "output_type": "stream",
     "text": [
      " * sqlite:////kaggle/input/yelp-dataset-truncated-to-10k-rows/yelp_10k.sqlite\n",
      "Done.\n"
     ]
    },
    {
     "data": {
      "text/html": [
       "<table>\n",
       "    <thead>\n",
       "        <tr>\n",
       "            <th>name</th>\n",
       "            <th>review_count</th>\n",
       "            <th>fans</th>\n",
       "        </tr>\n",
       "    </thead>\n",
       "    <tbody>\n",
       "        <tr>\n",
       "            <td>Bruce</td>\n",
       "            <td>16567</td>\n",
       "            <td>867</td>\n",
       "        </tr>\n",
       "        <tr>\n",
       "            <td>Kim</td>\n",
       "            <td>9941</td>\n",
       "            <td>825</td>\n",
       "        </tr>\n",
       "        <tr>\n",
       "            <td>Nijole</td>\n",
       "            <td>8363</td>\n",
       "            <td>921</td>\n",
       "        </tr>\n",
       "        <tr>\n",
       "            <td>George</td>\n",
       "            <td>7738</td>\n",
       "            <td>288</td>\n",
       "        </tr>\n",
       "        <tr>\n",
       "            <td>Jennifer</td>\n",
       "            <td>6679</td>\n",
       "            <td>828</td>\n",
       "        </tr>\n",
       "        <tr>\n",
       "            <td>Sunil</td>\n",
       "            <td>6459</td>\n",
       "            <td>186</td>\n",
       "        </tr>\n",
       "        <tr>\n",
       "            <td>Eric</td>\n",
       "            <td>5887</td>\n",
       "            <td>444</td>\n",
       "        </tr>\n",
       "        <tr>\n",
       "            <td>Ed</td>\n",
       "            <td>5800</td>\n",
       "            <td>2251</td>\n",
       "        </tr>\n",
       "        <tr>\n",
       "            <td>Rob</td>\n",
       "            <td>5511</td>\n",
       "            <td>445</td>\n",
       "        </tr>\n",
       "        <tr>\n",
       "            <td>Misha</td>\n",
       "            <td>5163</td>\n",
       "            <td>197</td>\n",
       "        </tr>\n",
       "        <tr>\n",
       "            <td>Michael</td>\n",
       "            <td>5061</td>\n",
       "            <td>1238</td>\n",
       "        </tr>\n",
       "        <tr>\n",
       "            <td>Jess</td>\n",
       "            <td>5002</td>\n",
       "            <td>525</td>\n",
       "        </tr>\n",
       "        <tr>\n",
       "            <td>Neal</td>\n",
       "            <td>4967</td>\n",
       "            <td>442</td>\n",
       "        </tr>\n",
       "        <tr>\n",
       "            <td>Ralph</td>\n",
       "            <td>4883</td>\n",
       "            <td>225</td>\n",
       "        </tr>\n",
       "        <tr>\n",
       "            <td>Phil</td>\n",
       "            <td>4478</td>\n",
       "            <td>841</td>\n",
       "        </tr>\n",
       "    </tbody>\n",
       "</table>"
      ],
      "text/plain": [
       "[('Bruce', 16567, 867),\n",
       " ('Kim', 9941, 825),\n",
       " ('Nijole', 8363, 921),\n",
       " ('George', 7738, 288),\n",
       " ('Jennifer', 6679, 828),\n",
       " ('Sunil', 6459, 186),\n",
       " ('Eric', 5887, 444),\n",
       " ('Ed', 5800, 2251),\n",
       " ('Rob', 5511, 445),\n",
       " ('Misha', 5163, 197),\n",
       " ('Michael', 5061, 1238),\n",
       " ('Jess', 5002, 525),\n",
       " ('Neal', 4967, 442),\n",
       " ('Ralph', 4883, 225),\n",
       " ('Phil', 4478, 841)]"
      ]
     },
     "execution_count": 7,
     "metadata": {},
     "output_type": "execute_result"
    }
   ],
   "source": [
    "%%sql\n",
    "SELECT\n",
    "  name,\n",
    "  review_count,\n",
    "  fans\n",
    "FROM\n",
    "  USER\n",
    "ORDER BY\n",
    "  review_count DESC\n",
    "LIMIT\n",
    "  15"
   ]
  },
  {
   "cell_type": "markdown",
   "id": "77ca10e7",
   "metadata": {
    "papermill": {
     "duration": 0.01522,
     "end_time": "2024-01-09T10:01:54.187748",
     "exception": false,
     "start_time": "2024-01-09T10:01:54.172528",
     "status": "completed"
    },
    "tags": []
   },
   "source": [
    "If we order my most fans"
   ]
  },
  {
   "cell_type": "code",
   "execution_count": 8,
   "id": "5985e24a",
   "metadata": {
    "execution": {
     "iopub.execute_input": "2024-01-09T10:01:54.220185Z",
     "iopub.status.busy": "2024-01-09T10:01:54.219339Z",
     "iopub.status.idle": "2024-01-09T10:01:54.237024Z",
     "shell.execute_reply": "2024-01-09T10:01:54.235624Z"
    },
    "papermill": {
     "duration": 0.036611,
     "end_time": "2024-01-09T10:01:54.239809",
     "exception": false,
     "start_time": "2024-01-09T10:01:54.203198",
     "status": "completed"
    },
    "tags": []
   },
   "outputs": [
    {
     "name": "stdout",
     "output_type": "stream",
     "text": [
      " * sqlite:////kaggle/input/yelp-dataset-truncated-to-10k-rows/yelp_10k.sqlite\n",
      "Done.\n"
     ]
    },
    {
     "data": {
      "text/html": [
       "<table>\n",
       "    <thead>\n",
       "        <tr>\n",
       "            <th>name</th>\n",
       "            <th>review_count</th>\n",
       "            <th>fans</th>\n",
       "        </tr>\n",
       "    </thead>\n",
       "    <tbody>\n",
       "        <tr>\n",
       "            <td>Mike</td>\n",
       "            <td>1882</td>\n",
       "            <td>12497</td>\n",
       "        </tr>\n",
       "        <tr>\n",
       "            <td>Daniel</td>\n",
       "            <td>4333</td>\n",
       "            <td>3138</td>\n",
       "        </tr>\n",
       "        <tr>\n",
       "            <td>Jessica</td>\n",
       "            <td>2101</td>\n",
       "            <td>2627</td>\n",
       "        </tr>\n",
       "        <tr>\n",
       "            <td>Peter</td>\n",
       "            <td>3193</td>\n",
       "            <td>2388</td>\n",
       "        </tr>\n",
       "        <tr>\n",
       "            <td>Ed</td>\n",
       "            <td>5800</td>\n",
       "            <td>2251</td>\n",
       "        </tr>\n",
       "        <tr>\n",
       "            <td>Brittany</td>\n",
       "            <td>2492</td>\n",
       "            <td>2086</td>\n",
       "        </tr>\n",
       "        <tr>\n",
       "            <td>Farrah</td>\n",
       "            <td>2073</td>\n",
       "            <td>2073</td>\n",
       "        </tr>\n",
       "        <tr>\n",
       "            <td>Stephanie</td>\n",
       "            <td>2000</td>\n",
       "            <td>1761</td>\n",
       "        </tr>\n",
       "        <tr>\n",
       "            <td>Kimi</td>\n",
       "            <td>1761</td>\n",
       "            <td>1620</td>\n",
       "        </tr>\n",
       "        <tr>\n",
       "            <td>Helina</td>\n",
       "            <td>1645</td>\n",
       "            <td>1570</td>\n",
       "        </tr>\n",
       "        <tr>\n",
       "            <td>Michael</td>\n",
       "            <td>3133</td>\n",
       "            <td>1563</td>\n",
       "        </tr>\n",
       "        <tr>\n",
       "            <td>Alex</td>\n",
       "            <td>2469</td>\n",
       "            <td>1532</td>\n",
       "        </tr>\n",
       "        <tr>\n",
       "            <td>Michelangelo</td>\n",
       "            <td>3004</td>\n",
       "            <td>1435</td>\n",
       "        </tr>\n",
       "        <tr>\n",
       "            <td>Andy</td>\n",
       "            <td>1593</td>\n",
       "            <td>1377</td>\n",
       "        </tr>\n",
       "        <tr>\n",
       "            <td>Jane</td>\n",
       "            <td>1221</td>\n",
       "            <td>1357</td>\n",
       "        </tr>\n",
       "    </tbody>\n",
       "</table>"
      ],
      "text/plain": [
       "[('Mike', 1882, 12497),\n",
       " ('Daniel', 4333, 3138),\n",
       " ('Jessica', 2101, 2627),\n",
       " ('Peter', 3193, 2388),\n",
       " ('Ed', 5800, 2251),\n",
       " ('Brittany', 2492, 2086),\n",
       " ('Farrah', 2073, 2073),\n",
       " ('Stephanie', 2000, 1761),\n",
       " ('Kimi', 1761, 1620),\n",
       " ('Helina', 1645, 1570),\n",
       " ('Michael', 3133, 1563),\n",
       " ('Alex', 2469, 1532),\n",
       " ('Michelangelo', 3004, 1435),\n",
       " ('Andy', 1593, 1377),\n",
       " ('Jane', 1221, 1357)]"
      ]
     },
     "execution_count": 8,
     "metadata": {},
     "output_type": "execute_result"
    }
   ],
   "source": [
    "%%sql\n",
    "SELECT\n",
    "  name,\n",
    "  review_count,\n",
    "  fans\n",
    "FROM\n",
    "  USER\n",
    "ORDER BY\n",
    "  fans DESC\n",
    "LIMIT\n",
    "  15"
   ]
  },
  {
   "cell_type": "markdown",
   "id": "b36d543d",
   "metadata": {
    "papermill": {
     "duration": 0.013966,
     "end_time": "2024-01-09T10:01:54.268000",
     "exception": false,
     "start_time": "2024-01-09T10:01:54.254034",
     "status": "completed"
    },
    "tags": []
   },
   "source": [
    "summary"
   ]
  },
  {
   "cell_type": "code",
   "execution_count": 9,
   "id": "37d00005",
   "metadata": {
    "execution": {
     "iopub.execute_input": "2024-01-09T10:01:54.298273Z",
     "iopub.status.busy": "2024-01-09T10:01:54.297383Z",
     "iopub.status.idle": "2024-01-09T10:01:54.314286Z",
     "shell.execute_reply": "2024-01-09T10:01:54.313156Z"
    },
    "papermill": {
     "duration": 0.034946,
     "end_time": "2024-01-09T10:01:54.316945",
     "exception": false,
     "start_time": "2024-01-09T10:01:54.281999",
     "status": "completed"
    },
    "tags": []
   },
   "outputs": [
    {
     "name": "stdout",
     "output_type": "stream",
     "text": [
      " * sqlite:////kaggle/input/yelp-dataset-truncated-to-10k-rows/yelp_10k.sqlite\n",
      "Done.\n"
     ]
    },
    {
     "data": {
      "text/html": [
       "<table>\n",
       "    <thead>\n",
       "        <tr>\n",
       "            <th>name</th>\n",
       "            <th>review_count</th>\n",
       "            <th>fans</th>\n",
       "            <th>nb_fans_per_review</th>\n",
       "        </tr>\n",
       "    </thead>\n",
       "    <tbody>\n",
       "        <tr>\n",
       "            <td>Mike</td>\n",
       "            <td>1882</td>\n",
       "            <td>12497</td>\n",
       "            <td>6</td>\n",
       "        </tr>\n",
       "        <tr>\n",
       "            <td>Michael</td>\n",
       "            <td>3</td>\n",
       "            <td>6</td>\n",
       "            <td>2</td>\n",
       "        </tr>\n",
       "        <tr>\n",
       "            <td>Mark</td>\n",
       "            <td>1</td>\n",
       "            <td>2</td>\n",
       "            <td>2</td>\n",
       "        </tr>\n",
       "        <tr>\n",
       "            <td>Chef Frisco</td>\n",
       "            <td>4</td>\n",
       "            <td>8</td>\n",
       "            <td>2</td>\n",
       "        </tr>\n",
       "        <tr>\n",
       "            <td>Amanda</td>\n",
       "            <td>3</td>\n",
       "            <td>7</td>\n",
       "            <td>2</td>\n",
       "        </tr>\n",
       "        <tr>\n",
       "            <td>Jess</td>\n",
       "            <td>1</td>\n",
       "            <td>2</td>\n",
       "            <td>2</td>\n",
       "        </tr>\n",
       "        <tr>\n",
       "            <td>chris</td>\n",
       "            <td>1</td>\n",
       "            <td>2</td>\n",
       "            <td>2</td>\n",
       "        </tr>\n",
       "        <tr>\n",
       "            <td>Jane</td>\n",
       "            <td>1221</td>\n",
       "            <td>1357</td>\n",
       "            <td>1</td>\n",
       "        </tr>\n",
       "        <tr>\n",
       "            <td>Jessica</td>\n",
       "            <td>2101</td>\n",
       "            <td>2627</td>\n",
       "            <td>1</td>\n",
       "        </tr>\n",
       "        <tr>\n",
       "            <td>Farrah</td>\n",
       "            <td>2073</td>\n",
       "            <td>2073</td>\n",
       "            <td>1</td>\n",
       "        </tr>\n",
       "        <tr>\n",
       "            <td>Nima</td>\n",
       "            <td>217</td>\n",
       "            <td>247</td>\n",
       "            <td>1</td>\n",
       "        </tr>\n",
       "        <tr>\n",
       "            <td>Jerry</td>\n",
       "            <td>9</td>\n",
       "            <td>11</td>\n",
       "            <td>1</td>\n",
       "        </tr>\n",
       "        <tr>\n",
       "            <td>Rachelle</td>\n",
       "            <td>11</td>\n",
       "            <td>18</td>\n",
       "            <td>1</td>\n",
       "        </tr>\n",
       "        <tr>\n",
       "            <td>Andrew</td>\n",
       "            <td>1</td>\n",
       "            <td>1</td>\n",
       "            <td>1</td>\n",
       "        </tr>\n",
       "        <tr>\n",
       "            <td>Marika</td>\n",
       "            <td>22</td>\n",
       "            <td>27</td>\n",
       "            <td>1</td>\n",
       "        </tr>\n",
       "    </tbody>\n",
       "</table>"
      ],
      "text/plain": [
       "[('Mike', 1882, 12497, 6),\n",
       " ('Michael', 3, 6, 2),\n",
       " ('Mark', 1, 2, 2),\n",
       " ('Chef Frisco', 4, 8, 2),\n",
       " ('Amanda', 3, 7, 2),\n",
       " ('Jess', 1, 2, 2),\n",
       " ('chris', 1, 2, 2),\n",
       " ('Jane', 1221, 1357, 1),\n",
       " ('Jessica', 2101, 2627, 1),\n",
       " ('Farrah', 2073, 2073, 1),\n",
       " ('Nima', 217, 247, 1),\n",
       " ('Jerry', 9, 11, 1),\n",
       " ('Rachelle', 11, 18, 1),\n",
       " ('Andrew', 1, 1, 1),\n",
       " ('Marika', 22, 27, 1)]"
      ]
     },
     "execution_count": 9,
     "metadata": {},
     "output_type": "execute_result"
    }
   ],
   "source": [
    "%%sql\n",
    "SELECT\n",
    "  name,\n",
    "  review_count,\n",
    "  fans,\n",
    "  fans / review_count AS nb_fans_per_review\n",
    "FROM\n",
    "  USER\n",
    "ORDER BY\n",
    "  nb_fans_per_review DESC\n",
    "LIMIT\n",
    "  15"
   ]
  },
  {
   "cell_type": "markdown",
   "id": "b8b92b1e",
   "metadata": {
    "papermill": {
     "duration": 0.01463,
     "end_time": "2024-01-09T10:01:54.346323",
     "exception": false,
     "start_time": "2024-01-09T10:01:54.331693",
     "status": "completed"
    },
    "tags": []
   },
   "source": [
    "Something I was trying to attempt is to divide users into 4 quartiles based on their review_count, and then compute the average or median number of fans for each quartile.\n",
    "\n",
    "This is a more basic way to visualize a correlation.\n",
    "\n",
    "I wanted to use the NTILE function but it doesn't appear to be supported by SQLite."
   ]
  },
  {
   "cell_type": "code",
   "execution_count": 10,
   "id": "d4e3430f",
   "metadata": {
    "execution": {
     "iopub.execute_input": "2024-01-09T10:01:54.377692Z",
     "iopub.status.busy": "2024-01-09T10:01:54.377232Z",
     "iopub.status.idle": "2024-01-09T10:01:54.413272Z",
     "shell.execute_reply": "2024-01-09T10:01:54.412112Z"
    },
    "papermill": {
     "duration": 0.055617,
     "end_time": "2024-01-09T10:01:54.416581",
     "exception": false,
     "start_time": "2024-01-09T10:01:54.360964",
     "status": "completed"
    },
    "tags": []
   },
   "outputs": [
    {
     "name": "stdout",
     "output_type": "stream",
     "text": [
      " * sqlite:////kaggle/input/yelp-dataset-truncated-to-10k-rows/yelp_10k.sqlite\n",
      "Done.\n"
     ]
    },
    {
     "data": {
      "text/html": [
       "<table>\n",
       "    <thead>\n",
       "        <tr>\n",
       "            <th>name</th>\n",
       "            <th>review_count</th>\n",
       "            <th>fans</th>\n",
       "            <th>review_count_quartiles</th>\n",
       "        </tr>\n",
       "    </thead>\n",
       "    <tbody>\n",
       "        <tr>\n",
       "            <td>charles</td>\n",
       "            <td>1</td>\n",
       "            <td>0</td>\n",
       "            <td>1</td>\n",
       "        </tr>\n",
       "        <tr>\n",
       "            <td>Meg</td>\n",
       "            <td>1</td>\n",
       "            <td>0</td>\n",
       "            <td>1</td>\n",
       "        </tr>\n",
       "        <tr>\n",
       "            <td>Paul</td>\n",
       "            <td>1</td>\n",
       "            <td>0</td>\n",
       "            <td>1</td>\n",
       "        </tr>\n",
       "        <tr>\n",
       "            <td>Jeremy</td>\n",
       "            <td>1</td>\n",
       "            <td>0</td>\n",
       "            <td>1</td>\n",
       "        </tr>\n",
       "        <tr>\n",
       "            <td>Andrew</td>\n",
       "            <td>1</td>\n",
       "            <td>1</td>\n",
       "            <td>1</td>\n",
       "        </tr>\n",
       "        <tr>\n",
       "            <td>Kevin</td>\n",
       "            <td>1</td>\n",
       "            <td>0</td>\n",
       "            <td>1</td>\n",
       "        </tr>\n",
       "        <tr>\n",
       "            <td>Brandon</td>\n",
       "            <td>1</td>\n",
       "            <td>0</td>\n",
       "            <td>1</td>\n",
       "        </tr>\n",
       "        <tr>\n",
       "            <td>William</td>\n",
       "            <td>1</td>\n",
       "            <td>0</td>\n",
       "            <td>1</td>\n",
       "        </tr>\n",
       "        <tr>\n",
       "            <td>Mark</td>\n",
       "            <td>1</td>\n",
       "            <td>2</td>\n",
       "            <td>1</td>\n",
       "        </tr>\n",
       "        <tr>\n",
       "            <td>James</td>\n",
       "            <td>1</td>\n",
       "            <td>0</td>\n",
       "            <td>1</td>\n",
       "        </tr>\n",
       "    </tbody>\n",
       "</table>"
      ],
      "text/plain": [
       "[('charles', 1, 0, 1),\n",
       " ('Meg', 1, 0, 1),\n",
       " ('Paul', 1, 0, 1),\n",
       " ('Jeremy', 1, 0, 1),\n",
       " ('Andrew', 1, 1, 1),\n",
       " ('Kevin', 1, 0, 1),\n",
       " ('Brandon', 1, 0, 1),\n",
       " ('William', 1, 0, 1),\n",
       " ('Mark', 1, 2, 1),\n",
       " ('James', 1, 0, 1)]"
      ]
     },
     "execution_count": 10,
     "metadata": {},
     "output_type": "execute_result"
    }
   ],
   "source": [
    "%%sql\n",
    "SELECT\n",
    "  name,\n",
    "  review_count,\n",
    "  fans,\n",
    "  NTILE (4) OVER (\n",
    "    ORDER BY\n",
    "      review_count\n",
    "  ) review_count_quartiles\n",
    "FROM\n",
    "  USER\n",
    "ORDER BY\n",
    "  review_count\n",
    "LIMIT\n",
    "  10"
   ]
  },
  {
   "cell_type": "markdown",
   "id": "f1db4387",
   "metadata": {
    "papermill": {
     "duration": 0.014248,
     "end_time": "2024-01-09T10:01:54.445507",
     "exception": false,
     "start_time": "2024-01-09T10:01:54.431259",
     "status": "completed"
    },
    "tags": []
   },
   "source": [
    "-- MANUAL GROUP BY\n",
    "-- I started looking for the four quartiles manually but the distribution was so stacked to the left it didn't makle much sense.\n",
    "--First quartiles was a review count of 0 or 1. So I made up some thresholds instead :\n",
    "-- Users in the top 100 (top 1%), the top 1000 (10%), top 5000 (top half) and bottom 5000 (bottom half)\n",
    "\n",
    "total number of users : 10000\n",
    "\n",
    "TOP 100 : WHERE review_count >= 344\t\t\t\t\t\t\t\tavg nb of fans : 56.96\n",
    "TOP 1000 : WHERE review_count >= 49 AND review_count < 344\t\tavg nb of fans : 7.41\n",
    "TOP 5000 : WHERE review_count >= 6 AND review_count < 49\t\tavg nb of fans : 0.59\n",
    "BOTTOM 5000 : WHERE review_count < 6\t\t\t\t\t\t\tavg nb of fans : 0.06\n",
    "\n",
    "-- I found each threshold with a simple count() query.\n",
    "-- Result : There does seem to be a positive correlation if we group users in this way."
   ]
  },
  {
   "cell_type": "markdown",
   "id": "019a5681",
   "metadata": {
    "papermill": {
     "duration": 0.014522,
     "end_time": "2024-01-09T10:01:54.475540",
     "exception": false,
     "start_time": "2024-01-09T10:01:54.461018",
     "status": "completed"
    },
    "tags": []
   },
   "source": [
    "-- 9. Are there more reviews with the word \"love\" or with the word \"hate\" in them?"
   ]
  },
  {
   "cell_type": "code",
   "execution_count": 11,
   "id": "25f4d9c8",
   "metadata": {
    "execution": {
     "iopub.execute_input": "2024-01-09T10:01:54.508325Z",
     "iopub.status.busy": "2024-01-09T10:01:54.507294Z",
     "iopub.status.idle": "2024-01-09T10:01:56.549453Z",
     "shell.execute_reply": "2024-01-09T10:01:56.547703Z"
    },
    "papermill": {
     "duration": 2.062176,
     "end_time": "2024-01-09T10:01:56.553116",
     "exception": false,
     "start_time": "2024-01-09T10:01:54.490940",
     "status": "completed"
    },
    "tags": []
   },
   "outputs": [
    {
     "name": "stdout",
     "output_type": "stream",
     "text": [
      " * sqlite:////kaggle/input/yelp-dataset-truncated-to-10k-rows/yelp_10k.sqlite\n",
      "Done.\n"
     ]
    },
    {
     "data": {
      "text/html": [
       "<table>\n",
       "    <thead>\n",
       "        <tr>\n",
       "            <th>love_count</th>\n",
       "            <th>hate_count</th>\n",
       "        </tr>\n",
       "    </thead>\n",
       "    <tbody>\n",
       "        <tr>\n",
       "            <td>1887</td>\n",
       "            <td>210</td>\n",
       "        </tr>\n",
       "    </tbody>\n",
       "</table>"
      ],
      "text/plain": [
       "[(1887, 210)]"
      ]
     },
     "execution_count": 11,
     "metadata": {},
     "output_type": "execute_result"
    }
   ],
   "source": [
    "%%sql\n",
    "SELECT\n",
    "  SUM(\n",
    "    CASE\n",
    "      WHEN text LIKE '%love%' THEN 1\n",
    "      ELSE 0\n",
    "    END\n",
    "  ) AS love_count,\n",
    "  SUM(\n",
    "    CASE\n",
    "      WHEN text LIKE '%hate%' THEN 1\n",
    "      ELSE 0\n",
    "    END\n",
    "  ) AS hate_count\n",
    "FROM\n",
    "  review"
   ]
  },
  {
   "cell_type": "markdown",
   "id": "971314ed",
   "metadata": {
    "papermill": {
     "duration": 0.01531,
     "end_time": "2024-01-09T10:01:56.584936",
     "exception": false,
     "start_time": "2024-01-09T10:01:56.569626",
     "status": "completed"
    },
    "tags": []
   },
   "source": [
    "Answer: love"
   ]
  },
  {
   "cell_type": "markdown",
   "id": "3a65ad6b",
   "metadata": {
    "papermill": {
     "duration": 0.01667,
     "end_time": "2024-01-09T10:01:56.617570",
     "exception": false,
     "start_time": "2024-01-09T10:01:56.600900",
     "status": "completed"
    },
    "tags": []
   },
   "source": [
    "10. Find the top 10 users with the most fans:"
   ]
  },
  {
   "cell_type": "code",
   "execution_count": 12,
   "id": "033620c8",
   "metadata": {
    "execution": {
     "iopub.execute_input": "2024-01-09T10:01:56.655021Z",
     "iopub.status.busy": "2024-01-09T10:01:56.653983Z",
     "iopub.status.idle": "2024-01-09T10:01:56.859677Z",
     "shell.execute_reply": "2024-01-09T10:01:56.858457Z"
    },
    "papermill": {
     "duration": 0.226111,
     "end_time": "2024-01-09T10:01:56.862779",
     "exception": false,
     "start_time": "2024-01-09T10:01:56.636668",
     "status": "completed"
    },
    "tags": []
   },
   "outputs": [
    {
     "name": "stdout",
     "output_type": "stream",
     "text": [
      " * sqlite:////kaggle/input/yelp-dataset-truncated-to-10k-rows/yelp_10k.sqlite\n",
      "Done.\n"
     ]
    },
    {
     "data": {
      "text/html": [
       "<table>\n",
       "    <thead>\n",
       "        <tr>\n",
       "            <th>name</th>\n",
       "            <th>fans</th>\n",
       "        </tr>\n",
       "    </thead>\n",
       "    <tbody>\n",
       "        <tr>\n",
       "            <td>Mike</td>\n",
       "            <td>12497</td>\n",
       "        </tr>\n",
       "        <tr>\n",
       "            <td>Daniel</td>\n",
       "            <td>3138</td>\n",
       "        </tr>\n",
       "        <tr>\n",
       "            <td>Jessica</td>\n",
       "            <td>2627</td>\n",
       "        </tr>\n",
       "        <tr>\n",
       "            <td>Peter</td>\n",
       "            <td>2388</td>\n",
       "        </tr>\n",
       "        <tr>\n",
       "            <td>Ed</td>\n",
       "            <td>2251</td>\n",
       "        </tr>\n",
       "        <tr>\n",
       "            <td>Brittany</td>\n",
       "            <td>2086</td>\n",
       "        </tr>\n",
       "        <tr>\n",
       "            <td>Farrah</td>\n",
       "            <td>2073</td>\n",
       "        </tr>\n",
       "        <tr>\n",
       "            <td>Stephanie</td>\n",
       "            <td>1761</td>\n",
       "        </tr>\n",
       "        <tr>\n",
       "            <td>Kimi</td>\n",
       "            <td>1620</td>\n",
       "        </tr>\n",
       "        <tr>\n",
       "            <td>Helina</td>\n",
       "            <td>1570</td>\n",
       "        </tr>\n",
       "    </tbody>\n",
       "</table>"
      ],
      "text/plain": [
       "[('Mike', 12497),\n",
       " ('Daniel', 3138),\n",
       " ('Jessica', 2627),\n",
       " ('Peter', 2388),\n",
       " ('Ed', 2251),\n",
       " ('Brittany', 2086),\n",
       " ('Farrah', 2073),\n",
       " ('Stephanie', 1761),\n",
       " ('Kimi', 1620),\n",
       " ('Helina', 1570)]"
      ]
     },
     "execution_count": 12,
     "metadata": {},
     "output_type": "execute_result"
    }
   ],
   "source": [
    "%%sql\n",
    "SELECT\n",
    "  name,\n",
    "  fans\n",
    "FROM\n",
    "  USER\n",
    "ORDER BY\n",
    "  fans DESC\n",
    "LIMIT\n",
    "  10"
   ]
  },
  {
   "cell_type": "markdown",
   "id": "9f5a0feb",
   "metadata": {
    "papermill": {
     "duration": 0.016438,
     "end_time": "2024-01-09T10:01:56.962926",
     "exception": false,
     "start_time": "2024-01-09T10:01:56.946488",
     "status": "completed"
    },
    "tags": []
   },
   "source": [
    "# Part 2: Inferences and Analysis"
   ]
  },
  {
   "cell_type": "markdown",
   "id": "bf35e7be",
   "metadata": {
    "papermill": {
     "duration": 0.015831,
     "end_time": "2024-01-09T10:01:56.995944",
     "exception": false,
     "start_time": "2024-01-09T10:01:56.980113",
     "status": "completed"
    },
    "tags": []
   },
   "source": [
    "-- 1. Pick one city and category of your choice and group the businesses in that city or category by their overall star rating.\n",
    "--Compare the businesses with 2-3 stars to the businesses with 4-5 stars and answer the following questions. Include your code.\n",
    "\t\n",
    "-- i. Do the two groups you chose to analyze have a different distribution of hours?\n",
    "\n",
    "-- What do they mean by distribution of hours ?\n",
    "\n",
    "-- We have two groups, seven days, and different types of opening hours for each day and business. What is meant by distribution of hours exactly ?\n",
    "\n",
    "-- I can create a weekly hours thing with the 168 hours\n",
    "-- then do so some sort of histogram\n",
    "-- Final table : mediocre vs high.\n",
    "-- Rows : all 168h but could hide the ones with 0%\n",
    "-- Share of mediocre restos open at that time vs share for high.\n",
    "\n",
    "-- It's probably more advanced that what they're asking\n",
    "-- ONCE we (inner) join the business and hours table, we're only left with 743 entries for the whole country.\n",
    "-- There are 10k unique ids in the business table, and 1562 in the hours table, 10k overall.\n",
    "-- Once we join them we're left with\n",
    "-- - 743 rows\n",
    "-- - 117 businesses\n",
    "-- This is problematic as the sample size is getting smaller, and will likely be too small once we focus on a specific city\n",
    "\n",
    "-- IF I filter for las vegas, one of the cities with the most businessess in the business table, I'm left with only 13 establishments.\n",
    "\n",
    "--ENTIRE QUERY (click to expand)"
   ]
  },
  {
   "cell_type": "code",
   "execution_count": 13,
   "id": "49de66cc",
   "metadata": {
    "execution": {
     "iopub.execute_input": "2024-01-09T10:01:57.031388Z",
     "iopub.status.busy": "2024-01-09T10:01:57.030973Z",
     "iopub.status.idle": "2024-01-09T10:01:58.228811Z",
     "shell.execute_reply": "2024-01-09T10:01:58.227509Z"
    },
    "papermill": {
     "duration": 1.219543,
     "end_time": "2024-01-09T10:01:58.231746",
     "exception": false,
     "start_time": "2024-01-09T10:01:57.012203",
     "status": "completed"
    },
    "tags": []
   },
   "outputs": [
    {
     "name": "stdout",
     "output_type": "stream",
     "text": [
      " * sqlite:////kaggle/input/yelp-dataset-truncated-to-10k-rows/yelp_10k.sqlite\n",
      "Done.\n"
     ]
    },
    {
     "data": {
      "text/html": [
       "<table>\n",
       "    <thead>\n",
       "        <tr>\n",
       "            <th>cat_rating</th>\n",
       "            <th>nb_of_businesses</th>\n",
       "            <th>avg_nb_weekly_opening_hours</th>\n",
       "        </tr>\n",
       "    </thead>\n",
       "    <tbody>\n",
       "        <tr>\n",
       "            <td>High</td>\n",
       "            <td>4482</td>\n",
       "            <td>41.4</td>\n",
       "        </tr>\n",
       "        <tr>\n",
       "            <td>Mediocre</td>\n",
       "            <td>2199</td>\n",
       "            <td>54.6</td>\n",
       "        </tr>\n",
       "        <tr>\n",
       "            <td>Other</td>\n",
       "            <td>1811</td>\n",
       "            <td>54.4</td>\n",
       "        </tr>\n",
       "    </tbody>\n",
       "</table>"
      ],
      "text/plain": [
       "[('High', 4482, 41.4), ('Mediocre', 2199, 54.6), ('Other', 1811, 54.4)]"
      ]
     },
     "execution_count": 13,
     "metadata": {},
     "output_type": "execute_result"
    }
   ],
   "source": [
    "%%sql\n",
    "\n",
    "SELECT \n",
    "    cat_rating,\n",
    "    COUNT(*) as nb_of_businesses,\n",
    "    ROUND(AVG(week_total_open_hours),1) as avg_nb_weekly_opening_hours\n",
    "    FROM\n",
    "    (\n",
    "    SELECT\n",
    "        hours,\n",
    "        SUM(nb_open_hours) as week_total_open_hours,\n",
    "        name,\n",
    "        cat_rating\n",
    "\n",
    "    FROM\n",
    "    (\n",
    "        SELECT --GET TOTAL HOURS OPEN PER WEEK FOR EACH BUSINESS\n",
    "            hours,\n",
    "            day,\n",
    "            TIME(opens_at) as time_open,\n",
    "            TIME(closes_at) as time_closed,\n",
    "            ROUND(\n",
    "                CASE WHEN TIME(closes_at) <= TIME(opens_at) THEN\n",
    "                cast((julianday(closes_at) - julianday(opens_at) + 1) * 24 as float)\n",
    "                ELSE\n",
    "                cast((julianday(closes_at) - julianday(opens_at)) * 24 as float)\n",
    "                END,1) AS nb_open_hours,\n",
    "            name,\n",
    "            cat_rating,\n",
    "            id,\n",
    "            business_id\n",
    "        FROM\n",
    "        (\n",
    "        SELECT\n",
    "                    day,\n",
    "                    opens_at_v0,\n",
    "                    CASE\n",
    "                        WHEN substr(opens_at_v0, -10) LIKE '%-%' THEN substr(opens_at_v0,1,5)\n",
    "                        ELSE substr(opens_at_v0, 1)\n",
    "                        END AS opens_at,\n",
    "                    closes_at,\n",
    "                    TIME(closes_at) as time_close,\n",
    "                    name,\n",
    "                    cat_rating,\n",
    "                    hours, id, business_id\n",
    "                FROM\n",
    "                    (\n",
    "                SELECT --group establishments into High, Mediocre and Other based on their ratings\n",
    "                    id,\n",
    "                    name,\n",
    "                    --stars,\n",
    "                    CASE\n",
    "                    WHEN stars BETWEEN 2 AND 3 THEN 'Mediocre'\n",
    "                    WHEN stars BETWEEN 4 AND 5 THEN 'High'\n",
    "                    ELSE 'Other'\n",
    "                    END AS cat_rating\n",
    "                FROM business\n",
    "                --WHERE city = 'Las Vegas'\n",
    "                ) b\n",
    "                JOIN \n",
    "                (\n",
    "                SELECT --extract day and time from a day-time cell for opening hours\n",
    "                    business_id,\n",
    "                    hours,\n",
    "                    substr(hours, 1, 3) as day,\n",
    "                    CASE\n",
    "                        WHEN substr(hours, -9)  LIKE '%|%' THEN '0' || substr(hours, -8,4)\n",
    "                        WHEN substr(hours, -10) LIKE '%|%' THEN '0' || substr(hours, -9,4)\n",
    "                        WHEN substr(hours, -11) LIKE '%|%' AND substr(hours, -5) NOT LIKE '%-%' THEN '0' || substr(hours, -10,4)\n",
    "                        WHEN substr(hours, -11) LIKE '%|%' AND substr(hours, -5) LIKE '%-%' THEN substr(hours, -10,5)\n",
    "\n",
    "                        ELSE substr(hours, -11,5)\n",
    "                        END AS opens_at_v0,\n",
    "                    CASE\n",
    "                        WHEN substr(hours, -5) LIKE '%-%' THEN '0' || substr(hours, -4)\n",
    "                        ELSE substr(hours, -5)\n",
    "                        END AS closes_at\n",
    "                FROM hours\n",
    "                ) h\n",
    "\n",
    "                on b.id = h.business_id\n",
    "\n",
    "                ORDER BY day, CAST(opens_at AS TIME)\n",
    "        ) \n",
    "    )\n",
    "\n",
    "    GROUP BY id\n",
    ")\n",
    "\n",
    "GROUP BY cat_rating"
   ]
  },
  {
   "cell_type": "markdown",
   "id": "7ad9e5e5",
   "metadata": {
    "papermill": {
     "duration": 0.016639,
     "end_time": "2024-01-09T10:01:58.264499",
     "exception": false,
     "start_time": "2024-01-09T10:01:58.247860",
     "status": "completed"
    },
    "tags": []
   },
   "source": [
    "iii. Are you able to infer anything from the location data provided between these two groups? Explain."
   ]
  },
  {
   "cell_type": "code",
   "execution_count": 14,
   "id": "7dba4e44",
   "metadata": {
    "execution": {
     "iopub.execute_input": "2024-01-09T10:01:58.298790Z",
     "iopub.status.busy": "2024-01-09T10:01:58.298330Z",
     "iopub.status.idle": "2024-01-09T10:01:58.336157Z",
     "shell.execute_reply": "2024-01-09T10:01:58.335155Z"
    },
    "papermill": {
     "duration": 0.057971,
     "end_time": "2024-01-09T10:01:58.338958",
     "exception": false,
     "start_time": "2024-01-09T10:01:58.280987",
     "status": "completed"
    },
    "tags": []
   },
   "outputs": [
    {
     "name": "stdout",
     "output_type": "stream",
     "text": [
      " * sqlite:////kaggle/input/yelp-dataset-truncated-to-10k-rows/yelp_10k.sqlite\n",
      "Done.\n"
     ]
    },
    {
     "data": {
      "text/html": [
       "<table>\n",
       "    <thead>\n",
       "        <tr>\n",
       "            <th>city</th>\n",
       "            <th>count</th>\n",
       "            <th>share_high</th>\n",
       "            <th>share_mediocre</th>\n",
       "        </tr>\n",
       "    </thead>\n",
       "    <tbody>\n",
       "        <tr>\n",
       "            <td>Philadelphia</td>\n",
       "            <td>980</td>\n",
       "            <td>49.0</td>\n",
       "            <td>27.0</td>\n",
       "        </tr>\n",
       "        <tr>\n",
       "            <td>Tucson</td>\n",
       "            <td>628</td>\n",
       "            <td>51.0</td>\n",
       "            <td>29.0</td>\n",
       "        </tr>\n",
       "        <tr>\n",
       "            <td>Tampa</td>\n",
       "            <td>624</td>\n",
       "            <td>50.0</td>\n",
       "            <td>25.0</td>\n",
       "        </tr>\n",
       "        <tr>\n",
       "            <td>Indianapolis</td>\n",
       "            <td>503</td>\n",
       "            <td>50.0</td>\n",
       "            <td>29.0</td>\n",
       "        </tr>\n",
       "        <tr>\n",
       "            <td>Nashville</td>\n",
       "            <td>467</td>\n",
       "            <td>53.0</td>\n",
       "            <td>23.0</td>\n",
       "        </tr>\n",
       "        <tr>\n",
       "            <td>New Orleans</td>\n",
       "            <td>440</td>\n",
       "            <td>65.0</td>\n",
       "            <td>16.0</td>\n",
       "        </tr>\n",
       "        <tr>\n",
       "            <td>Reno</td>\n",
       "            <td>418</td>\n",
       "            <td>58.0</td>\n",
       "            <td>21.0</td>\n",
       "        </tr>\n",
       "        <tr>\n",
       "            <td>Edmonton</td>\n",
       "            <td>345</td>\n",
       "            <td>43.0</td>\n",
       "            <td>31.0</td>\n",
       "        </tr>\n",
       "        <tr>\n",
       "            <td>Saint Louis</td>\n",
       "            <td>303</td>\n",
       "            <td>46.0</td>\n",
       "            <td>28.0</td>\n",
       "        </tr>\n",
       "        <tr>\n",
       "            <td>Santa Barbara</td>\n",
       "            <td>267</td>\n",
       "            <td>72.0</td>\n",
       "            <td>15.0</td>\n",
       "        </tr>\n",
       "        <tr>\n",
       "            <td>Boise</td>\n",
       "            <td>186</td>\n",
       "            <td>59.0</td>\n",
       "            <td>22.0</td>\n",
       "        </tr>\n",
       "        <tr>\n",
       "            <td>Clearwater</td>\n",
       "            <td>141</td>\n",
       "            <td>53.0</td>\n",
       "            <td>21.0</td>\n",
       "        </tr>\n",
       "        <tr>\n",
       "            <td>Saint Petersburg</td>\n",
       "            <td>110</td>\n",
       "            <td>65.0</td>\n",
       "            <td>17.0</td>\n",
       "        </tr>\n",
       "        <tr>\n",
       "            <td>Franklin</td>\n",
       "            <td>105</td>\n",
       "            <td>50.0</td>\n",
       "            <td>30.0</td>\n",
       "        </tr>\n",
       "        <tr>\n",
       "            <td>Metairie</td>\n",
       "            <td>101</td>\n",
       "            <td>44.0</td>\n",
       "            <td>31.0</td>\n",
       "        </tr>\n",
       "        <tr>\n",
       "            <td>Sparks</td>\n",
       "            <td>97</td>\n",
       "            <td>50.0</td>\n",
       "            <td>23.0</td>\n",
       "        </tr>\n",
       "        <tr>\n",
       "            <td>Wilmington</td>\n",
       "            <td>94</td>\n",
       "            <td>45.0</td>\n",
       "            <td>34.0</td>\n",
       "        </tr>\n",
       "        <tr>\n",
       "            <td>St. Louis</td>\n",
       "            <td>90</td>\n",
       "            <td>58.0</td>\n",
       "            <td>22.0</td>\n",
       "        </tr>\n",
       "        <tr>\n",
       "            <td>Cherry Hill</td>\n",
       "            <td>69</td>\n",
       "            <td>43.0</td>\n",
       "            <td>36.0</td>\n",
       "        </tr>\n",
       "        <tr>\n",
       "            <td>West Chester</td>\n",
       "            <td>64</td>\n",
       "            <td>56.0</td>\n",
       "            <td>23.0</td>\n",
       "        </tr>\n",
       "    </tbody>\n",
       "</table>"
      ],
      "text/plain": [
       "[('Philadelphia', 980, 49.0, 27.0),\n",
       " ('Tucson', 628, 51.0, 29.0),\n",
       " ('Tampa', 624, 50.0, 25.0),\n",
       " ('Indianapolis', 503, 50.0, 29.0),\n",
       " ('Nashville', 467, 53.0, 23.0),\n",
       " ('New Orleans', 440, 65.0, 16.0),\n",
       " ('Reno', 418, 58.0, 21.0),\n",
       " ('Edmonton', 345, 43.0, 31.0),\n",
       " ('Saint Louis', 303, 46.0, 28.0),\n",
       " ('Santa Barbara', 267, 72.0, 15.0),\n",
       " ('Boise', 186, 59.0, 22.0),\n",
       " ('Clearwater', 141, 53.0, 21.0),\n",
       " ('Saint Petersburg', 110, 65.0, 17.0),\n",
       " ('Franklin', 105, 50.0, 30.0),\n",
       " ('Metairie', 101, 44.0, 31.0),\n",
       " ('Sparks', 97, 50.0, 23.0),\n",
       " ('Wilmington', 94, 45.0, 34.0),\n",
       " ('St. Louis', 90, 58.0, 22.0),\n",
       " ('Cherry Hill', 69, 43.0, 36.0),\n",
       " ('West Chester', 64, 56.0, 23.0)]"
      ]
     },
     "execution_count": 14,
     "metadata": {},
     "output_type": "execute_result"
    }
   ],
   "source": [
    "%%sql\n",
    "\n",
    "SELECT -- QUERY C : share of High rating businesses within the city, share of Mediocre.\n",
    "    city,\n",
    "    count,\n",
    "    ROUND(100*nb_high/count, 1) as share_high,\n",
    "    ROUND(100*nb_mediocre/count, 1) as share_mediocre\n",
    "\n",
    "FROM\n",
    "(\n",
    "    SELECT -- QUERY B : number of businesses in the city, average rating, total number of reviews in that city, nb of High businesses, nb of Mediocre ones.\n",
    "        city,\n",
    "        COUNT(*) as count,\n",
    "        ROUND(AVG(review_count),1) as avg_review_count,\n",
    "        SUM(review_count) as total_reviews,\n",
    "        ROUND(AVG(stars),1) as avg_rating,\n",
    "        SUM(CASE WHEN cat_rating = 'High' THEN 1 ELSE 0 END) AS nb_high,\n",
    "        SUM(CASE WHEN cat_rating = 'Mediocre' THEN 1 ELSE 0 END) AS nb_mediocre\n",
    "    FROM\n",
    "    (\n",
    "        SELECT --QUERY A : assigns a category rating\n",
    "            name,\n",
    "            city,\n",
    "            stars,\n",
    "                CASE\n",
    "                WHEN stars BETWEEN 2 AND 3 THEN 'Mediocre'\n",
    "                WHEN stars BETWEEN 4 AND 5 THEN 'High'\n",
    "                ELSE NULL\n",
    "                END AS\n",
    "            cat_rating,\n",
    "            review_count\n",
    "        FROM business\n",
    "    )\n",
    "    GROUP BY city\n",
    "    HAVING count >= 20\n",
    ")\n",
    "\n",
    "ORDER BY count desc\n",
    "LIMIT 20"
   ]
  },
  {
   "cell_type": "markdown",
   "id": "ef790e8d",
   "metadata": {
    "papermill": {
     "duration": 0.016476,
     "end_time": "2024-01-09T10:01:58.372364",
     "exception": false,
     "start_time": "2024-01-09T10:01:58.355888",
     "status": "completed"
    },
    "tags": []
   },
   "source": [
    "-- 2. Group business based on the ones that are open and the ones that are closed. What differences can you find between the ones \n",
    "-- that are still open and the ones that are closed? List at least two differences and the SQL code you used to arrive at your answer.\n",
    "\n",
    "-- Not exactely sure if is_open boolean means open or not right now, or permanently closed ?\n",
    "\n",
    "-- i. Difference 1:\n",
    "-- ii. Difference 2:"
   ]
  },
  {
   "cell_type": "code",
   "execution_count": 15,
   "id": "1315f161",
   "metadata": {
    "execution": {
     "iopub.execute_input": "2024-01-09T10:01:58.408217Z",
     "iopub.status.busy": "2024-01-09T10:01:58.407793Z",
     "iopub.status.idle": "2024-01-09T10:01:58.429817Z",
     "shell.execute_reply": "2024-01-09T10:01:58.428595Z"
    },
    "papermill": {
     "duration": 0.042587,
     "end_time": "2024-01-09T10:01:58.432717",
     "exception": false,
     "start_time": "2024-01-09T10:01:58.390130",
     "status": "completed"
    },
    "tags": []
   },
   "outputs": [
    {
     "name": "stdout",
     "output_type": "stream",
     "text": [
      " * sqlite:////kaggle/input/yelp-dataset-truncated-to-10k-rows/yelp_10k.sqlite\n",
      "Done.\n"
     ]
    },
    {
     "data": {
      "text/html": [
       "<table>\n",
       "    <thead>\n",
       "        <tr>\n",
       "            <th>is_open</th>\n",
       "            <th>COUNT</th>\n",
       "            <th>avg_review_count</th>\n",
       "            <th>avg_rating</th>\n",
       "        </tr>\n",
       "    </thead>\n",
       "    <tbody>\n",
       "        <tr>\n",
       "            <td>0</td>\n",
       "            <td>2033</td>\n",
       "            <td>39.7</td>\n",
       "            <td>3.5</td>\n",
       "        </tr>\n",
       "        <tr>\n",
       "            <td>1</td>\n",
       "            <td>7967</td>\n",
       "            <td>48.8</td>\n",
       "            <td>3.6</td>\n",
       "        </tr>\n",
       "    </tbody>\n",
       "</table>"
      ],
      "text/plain": [
       "[(0, 2033, 39.7, 3.5), (1, 7967, 48.8, 3.6)]"
      ]
     },
     "execution_count": 15,
     "metadata": {},
     "output_type": "execute_result"
    }
   ],
   "source": [
    "%%sql\n",
    "SELECT\n",
    "  is_open,\n",
    "  COUNT(*) AS COUNT,\n",
    "  ROUND(AVG(review_count), 1) AS avg_review_count,\n",
    "  ROUND(AVG(stars), 1) AS avg_rating\n",
    "FROM\n",
    "  business\n",
    "GROUP BY\n",
    "  is_open"
   ]
  },
  {
   "cell_type": "markdown",
   "id": "acd2a83c",
   "metadata": {
    "papermill": {
     "duration": 0.016374,
     "end_time": "2024-01-09T10:01:58.466042",
     "exception": false,
     "start_time": "2024-01-09T10:01:58.449668",
     "status": "completed"
    },
    "tags": []
   },
   "source": [
    "# PART III -  My own analysis"
   ]
  },
  {
   "cell_type": "markdown",
   "id": "0ad5dcac",
   "metadata": {
    "papermill": {
     "duration": 0.016403,
     "end_time": "2024-01-09T10:01:58.499164",
     "exception": false,
     "start_time": "2024-01-09T10:01:58.482761",
     "status": "completed"
    },
    "tags": []
   },
   "source": [
    "3. For this last part of your analysis, you are going to choose the type of analysis you want to conduct on the Yelp dataset and are going \n",
    "to prepare the data for analysis.\n",
    "\n",
    "Ideas for analysis include:\n",
    "- parsing out keywords and business attributes for sentiment analysis,\n",
    "- clustering businesses to find commonalities or anomalies between them,\n",
    "- predicting the overall star rating for a business,\n",
    "- predicting the number of fans a user will have, and so on.\n",
    "\n",
    "These are just a few examples to get you started, so feel free to be creative and come up with your own problem you want to solve.\n",
    "Provide answers, in-line, to all of the following:\n",
    "\n",
    "i. Indicate the type of analysis you chose to do:\n",
    "ii. Write 1-2 brief paragraphs on the type of data you will need for your analysis and why you chose that data:\n",
    "iii. Output of your finished dataset:\n",
    "iv. Provide the SQL code you used to create your final dataset:"
   ]
  },
  {
   "cell_type": "code",
   "execution_count": 16,
   "id": "f6292e15",
   "metadata": {
    "execution": {
     "iopub.execute_input": "2024-01-09T10:01:58.543054Z",
     "iopub.status.busy": "2024-01-09T10:01:58.542530Z",
     "iopub.status.idle": "2024-01-09T10:02:00.632732Z",
     "shell.execute_reply": "2024-01-09T10:02:00.631512Z"
    },
    "papermill": {
     "duration": 2.115076,
     "end_time": "2024-01-09T10:02:00.635447",
     "exception": false,
     "start_time": "2024-01-09T10:01:58.520371",
     "status": "completed"
    },
    "tags": []
   },
   "outputs": [
    {
     "name": "stdout",
     "output_type": "stream",
     "text": [
      " * sqlite:////kaggle/input/yelp-dataset-truncated-to-10k-rows/yelp_10k.sqlite\n",
      "Done.\n"
     ]
    },
    {
     "data": {
      "text/html": [
       "<table>\n",
       "    <thead>\n",
       "        <tr>\n",
       "            <th>tasty_count</th>\n",
       "            <th>kind_count</th>\n",
       "            <th>welcoming_count</th>\n",
       "            <th>fast_count</th>\n",
       "            <th>hostile_count</th>\n",
       "            <th>cold_count</th>\n",
       "        </tr>\n",
       "    </thead>\n",
       "    <tbody>\n",
       "        <tr>\n",
       "            <td>523</td>\n",
       "            <td>534</td>\n",
       "            <td>99</td>\n",
       "            <td>897</td>\n",
       "            <td>5</td>\n",
       "            <td>329</td>\n",
       "        </tr>\n",
       "    </tbody>\n",
       "</table>"
      ],
      "text/plain": [
       "[(523, 534, 99, 897, 5, 329)]"
      ]
     },
     "execution_count": 16,
     "metadata": {},
     "output_type": "execute_result"
    }
   ],
   "source": [
    "%%sql\n",
    "SELECT\n",
    "  SUM(\n",
    "    CASE\n",
    "      WHEN text LIKE '%tasty%' THEN 1\n",
    "      ELSE 0\n",
    "    END\n",
    "  ) AS tasty_count,\n",
    "  SUM(\n",
    "    CASE\n",
    "      WHEN text LIKE '%kind%' THEN 1\n",
    "      ELSE 0\n",
    "    END\n",
    "  ) AS kind_count,\n",
    "  SUM(\n",
    "    CASE\n",
    "      WHEN text LIKE '%welcoming%' THEN 1\n",
    "      ELSE 0\n",
    "    END\n",
    "  ) AS welcoming_count,\n",
    "  SUM(\n",
    "    CASE\n",
    "      WHEN text LIKE '%fast%' THEN 1\n",
    "      ELSE 0\n",
    "    END\n",
    "  ) AS fast_count,\n",
    "  SUM(\n",
    "    CASE\n",
    "      WHEN text LIKE '%hostile%' THEN 1\n",
    "      ELSE 0\n",
    "    END\n",
    "  ) AS hostile_count,\n",
    "  SUM(\n",
    "    CASE\n",
    "      WHEN text LIKE '%cold%' THEN 1\n",
    "      ELSE 0\n",
    "    END\n",
    "  ) AS cold_count\n",
    "FROM\n",
    "  review;"
   ]
  },
  {
   "cell_type": "markdown",
   "id": "6405372a",
   "metadata": {
    "papermill": {
     "duration": 0.017453,
     "end_time": "2024-01-09T10:02:00.671733",
     "exception": false,
     "start_time": "2024-01-09T10:02:00.654280",
     "status": "completed"
    },
    "tags": []
   },
   "source": [
    "## 3A - ADDING A COUNTRY COLUMN"
   ]
  },
  {
   "cell_type": "markdown",
   "id": "47601e9a",
   "metadata": {
    "papermill": {
     "duration": 0.016717,
     "end_time": "2024-01-09T10:02:00.705481",
     "exception": false,
     "start_time": "2024-01-09T10:02:00.688764",
     "status": "completed"
    },
    "tags": []
   },
   "source": [
    "--Note : I just realised the dataset wasn't restricted to the US.\n",
    "--But this is made harder by the fact that there isn't a country column, just city and state.\n",
    "-- That's quite unfortunate.\n",
    "\n",
    "-- There's on in Buenos Aires, and cities in scotland, germany"
   ]
  },
  {
   "cell_type": "code",
   "execution_count": 17,
   "id": "5c49b61b",
   "metadata": {
    "execution": {
     "iopub.execute_input": "2024-01-09T10:02:00.741004Z",
     "iopub.status.busy": "2024-01-09T10:02:00.740622Z",
     "iopub.status.idle": "2024-01-09T10:02:01.016340Z",
     "shell.execute_reply": "2024-01-09T10:02:01.015485Z"
    },
    "papermill": {
     "duration": 0.296765,
     "end_time": "2024-01-09T10:02:01.019049",
     "exception": false,
     "start_time": "2024-01-09T10:02:00.722284",
     "status": "completed"
    },
    "tags": []
   },
   "outputs": [
    {
     "name": "stdout",
     "output_type": "stream",
     "text": [
      " * sqlite:////kaggle/input/yelp-dataset-truncated-to-10k-rows/yelp_10k.sqlite\n",
      "Done.\n"
     ]
    },
    {
     "data": {
      "text/html": [
       "<table>\n",
       "    <thead>\n",
       "        <tr>\n",
       "            <th>name</th>\n",
       "            <th>latitude</th>\n",
       "            <th>longitude</th>\n",
       "            <th>state</th>\n",
       "            <th>city</th>\n",
       "            <th>postal_code</th>\n",
       "        </tr>\n",
       "    </thead>\n",
       "    <tbody>\n",
       "    </tbody>\n",
       "</table>"
      ],
      "text/plain": [
       "[]"
      ]
     },
     "execution_count": 17,
     "metadata": {},
     "output_type": "execute_result"
    }
   ],
   "source": [
    "%%sql\n",
    "SELECT\n",
    "  name,\n",
    "  latitude,\n",
    "  longitude,\n",
    "  state,\n",
    "  city,\n",
    "  postal_code\n",
    "FROM\n",
    "  business\n",
    "WHERE\n",
    "  longitude > -65 --too east to be the US\n",
    "  AND latitude < 25 --too south\n",
    "GROUP BY\n",
    "  state\n",
    "ORDER BY\n",
    "  state"
   ]
  },
  {
   "cell_type": "markdown",
   "id": "c1d41c72",
   "metadata": {
    "papermill": {
     "duration": 0.017401,
     "end_time": "2024-01-09T10:02:01.055060",
     "exception": false,
     "start_time": "2024-01-09T10:02:01.037659",
     "status": "completed"
    },
    "tags": []
   },
   "source": [
    "-- In the whole business, there are 10k entries, but only 23 distinct states\n",
    "\n",
    "-- Let's investigate :"
   ]
  },
  {
   "cell_type": "code",
   "execution_count": 18,
   "id": "32c60e72",
   "metadata": {
    "execution": {
     "iopub.execute_input": "2024-01-09T10:02:01.093583Z",
     "iopub.status.busy": "2024-01-09T10:02:01.093121Z",
     "iopub.status.idle": "2024-01-09T10:02:01.122308Z",
     "shell.execute_reply": "2024-01-09T10:02:01.121105Z"
    },
    "papermill": {
     "duration": 0.051047,
     "end_time": "2024-01-09T10:02:01.125006",
     "exception": false,
     "start_time": "2024-01-09T10:02:01.073959",
     "status": "completed"
    },
    "tags": []
   },
   "outputs": [
    {
     "name": "stdout",
     "output_type": "stream",
     "text": [
      " * sqlite:////kaggle/input/yelp-dataset-truncated-to-10k-rows/yelp_10k.sqlite\n",
      "Done.\n"
     ]
    },
    {
     "data": {
      "text/html": [
       "<table>\n",
       "    <thead>\n",
       "        <tr>\n",
       "            <th>state</th>\n",
       "            <th>AVG(latitude)</th>\n",
       "            <th>AVG(longitude)</th>\n",
       "            <th>nb_of_businesses</th>\n",
       "        </tr>\n",
       "    </thead>\n",
       "    <tbody>\n",
       "        <tr>\n",
       "            <td>AB</td>\n",
       "            <td>53.53321110386228</td>\n",
       "            <td>-113.50501101601797</td>\n",
       "            <td>395</td>\n",
       "        </tr>\n",
       "        <tr>\n",
       "            <td>AZ</td>\n",
       "            <td>32.247462151655405</td>\n",
       "            <td>-110.93462610641997</td>\n",
       "            <td>666</td>\n",
       "        </tr>\n",
       "        <tr>\n",
       "            <td>CA</td>\n",
       "            <td>34.438266876722906</td>\n",
       "            <td>-119.72145021038212</td>\n",
       "            <td>358</td>\n",
       "        </tr>\n",
       "        <tr>\n",
       "            <td>CO</td>\n",
       "            <td>32.0948541</td>\n",
       "            <td>-110.7734914</td>\n",
       "            <td>1</td>\n",
       "        </tr>\n",
       "        <tr>\n",
       "            <td>DE</td>\n",
       "            <td>39.737377786518124</td>\n",
       "            <td>-75.59406686966041</td>\n",
       "            <td>149</td>\n",
       "        </tr>\n",
       "        <tr>\n",
       "            <td>FL</td>\n",
       "            <td>27.98438548634534</td>\n",
       "            <td>-82.5664930218129</td>\n",
       "            <td>1727</td>\n",
       "        </tr>\n",
       "        <tr>\n",
       "            <td>ID</td>\n",
       "            <td>43.61950376009498</td>\n",
       "            <td>-116.27551029220386</td>\n",
       "            <td>259</td>\n",
       "        </tr>\n",
       "        <tr>\n",
       "            <td>IL</td>\n",
       "            <td>38.64109143099342</td>\n",
       "            <td>-90.02010836489934</td>\n",
       "            <td>152</td>\n",
       "        </tr>\n",
       "        <tr>\n",
       "            <td>IN</td>\n",
       "            <td>39.81941494063171</td>\n",
       "            <td>-86.15799086586343</td>\n",
       "            <td>741</td>\n",
       "        </tr>\n",
       "        <tr>\n",
       "            <td>LA</td>\n",
       "            <td>29.961006101460324</td>\n",
       "            <td>-90.10465055870428</td>\n",
       "            <td>678</td>\n",
       "        </tr>\n",
       "        <tr>\n",
       "            <td>MO</td>\n",
       "            <td>38.625159364561185</td>\n",
       "            <td>-90.35121142667042</td>\n",
       "            <td>693</td>\n",
       "        </tr>\n",
       "        <tr>\n",
       "            <td>NC</td>\n",
       "            <td>36.378837</td>\n",
       "            <td>-86.463779</td>\n",
       "            <td>1</td>\n",
       "        </tr>\n",
       "        <tr>\n",
       "            <td>NJ</td>\n",
       "            <td>39.905896520650266</td>\n",
       "            <td>-74.98737210605026</td>\n",
       "            <td>575</td>\n",
       "        </tr>\n",
       "        <tr>\n",
       "            <td>NV</td>\n",
       "            <td>39.51069663483472</td>\n",
       "            <td>-119.79228381580853</td>\n",
       "            <td>527</td>\n",
       "        </tr>\n",
       "        <tr>\n",
       "            <td>PA</td>\n",
       "            <td>40.04668141285508</td>\n",
       "            <td>-75.23138220186054</td>\n",
       "            <td>2266</td>\n",
       "        </tr>\n",
       "        <tr>\n",
       "            <td>TN</td>\n",
       "            <td>36.12054660526638</td>\n",
       "            <td>-86.75196118326502</td>\n",
       "            <td>812</td>\n",
       "        </tr>\n",
       "    </tbody>\n",
       "</table>"
      ],
      "text/plain": [
       "[('AB', 53.53321110386228, -113.50501101601797, 395),\n",
       " ('AZ', 32.247462151655405, -110.93462610641997, 666),\n",
       " ('CA', 34.438266876722906, -119.72145021038212, 358),\n",
       " ('CO', 32.0948541, -110.7734914, 1),\n",
       " ('DE', 39.737377786518124, -75.59406686966041, 149),\n",
       " ('FL', 27.98438548634534, -82.5664930218129, 1727),\n",
       " ('ID', 43.61950376009498, -116.27551029220386, 259),\n",
       " ('IL', 38.64109143099342, -90.02010836489934, 152),\n",
       " ('IN', 39.81941494063171, -86.15799086586343, 741),\n",
       " ('LA', 29.961006101460324, -90.10465055870428, 678),\n",
       " ('MO', 38.625159364561185, -90.35121142667042, 693),\n",
       " ('NC', 36.378837, -86.463779, 1),\n",
       " ('NJ', 39.905896520650266, -74.98737210605026, 575),\n",
       " ('NV', 39.51069663483472, -119.79228381580853, 527),\n",
       " ('PA', 40.04668141285508, -75.23138220186054, 2266),\n",
       " ('TN', 36.12054660526638, -86.75196118326502, 812)]"
      ]
     },
     "execution_count": 18,
     "metadata": {},
     "output_type": "execute_result"
    }
   ],
   "source": [
    "%%sql\n",
    "SELECT\n",
    "  state,\n",
    "  AVG(latitude),\n",
    "  AVG(longitude),\n",
    "  COUNT(id) AS nb_of_businesses\n",
    "FROM\n",
    "  business\n",
    "GROUP BY\n",
    "  state\n",
    "ORDER BY\n",
    "  state"
   ]
  },
  {
   "cell_type": "markdown",
   "id": "06686822",
   "metadata": {
    "papermill": {
     "duration": 0.017807,
     "end_time": "2024-01-09T10:02:01.162347",
     "exception": false,
     "start_time": "2024-01-09T10:02:01.144540",
     "status": "completed"
    },
    "tags": []
   },
   "source": [
    "For the US, business in only eight states are present :\n",
    "- AZ\tArizona\n",
    "- IL\tIllinois\n",
    "- NC\tNorth Carolina\n",
    "- NV\tNevada\n",
    "- NY\tNew York (Only two businesses, with a third one actually being located in vegas)\n",
    "- OH\tOhio\n",
    "- PA\tPennsylvania\n",
    "- SC\tSouth Carolina\n",
    "- WI\tWisconsin"
   ]
  },
  {
   "cell_type": "markdown",
   "id": "4651628e",
   "metadata": {
    "papermill": {
     "duration": 0.019218,
     "end_time": "2024-01-09T10:02:01.200022",
     "exception": false,
     "start_time": "2024-01-09T10:02:01.180804",
     "status": "completed"
    },
    "tags": []
   },
   "source": [
    "-- We can see that the dataset isn't perfect, for example :"
   ]
  },
  {
   "cell_type": "code",
   "execution_count": 19,
   "id": "a1f7d756",
   "metadata": {
    "execution": {
     "iopub.execute_input": "2024-01-09T10:02:01.237658Z",
     "iopub.status.busy": "2024-01-09T10:02:01.237215Z",
     "iopub.status.idle": "2024-01-09T10:02:01.253659Z",
     "shell.execute_reply": "2024-01-09T10:02:01.252501Z"
    },
    "papermill": {
     "duration": 0.03837,
     "end_time": "2024-01-09T10:02:01.256407",
     "exception": false,
     "start_time": "2024-01-09T10:02:01.218037",
     "status": "completed"
    },
    "tags": []
   },
   "outputs": [
    {
     "name": "stdout",
     "output_type": "stream",
     "text": [
      " * sqlite:////kaggle/input/yelp-dataset-truncated-to-10k-rows/yelp_10k.sqlite\n",
      "Done.\n"
     ]
    },
    {
     "data": {
      "text/html": [
       "<table>\n",
       "    <thead>\n",
       "        <tr>\n",
       "            <th>id</th>\n",
       "            <th>name</th>\n",
       "            <th>address</th>\n",
       "            <th>city</th>\n",
       "            <th>state</th>\n",
       "            <th>postal_code</th>\n",
       "            <th>latitude</th>\n",
       "            <th>longitude</th>\n",
       "            <th>stars</th>\n",
       "            <th>review_count</th>\n",
       "            <th>is_open</th>\n",
       "        </tr>\n",
       "    </thead>\n",
       "    <tbody>\n",
       "    </tbody>\n",
       "</table>"
      ],
      "text/plain": [
       "[]"
      ]
     },
     "execution_count": 19,
     "metadata": {},
     "output_type": "execute_result"
    }
   ],
   "source": [
    "%%sql\n",
    "SELECT\n",
    "  *\n",
    "FROM\n",
    "  business\n",
    "WHERE\n",
    "  state = 'NY'"
   ]
  }
 ],
 "metadata": {
  "kaggle": {
   "accelerator": "none",
   "dataSources": [
    {
     "datasetId": 4278155,
     "sourceId": 7364365,
     "sourceType": "datasetVersion"
    }
   ],
   "dockerImageVersionId": 30626,
   "isGpuEnabled": false,
   "isInternetEnabled": true,
   "language": "python",
   "sourceType": "notebook"
  },
  "kernelspec": {
   "display_name": "Python 3",
   "language": "python",
   "name": "python3"
  },
  "language_info": {
   "codemirror_mode": {
    "name": "ipython",
    "version": 3
   },
   "file_extension": ".py",
   "mimetype": "text/x-python",
   "name": "python",
   "nbconvert_exporter": "python",
   "pygments_lexer": "ipython3",
   "version": "3.10.12"
  },
  "papermill": {
   "default_parameters": {},
   "duration": 13.826387,
   "end_time": "2024-01-09T10:02:01.897936",
   "environment_variables": {},
   "exception": null,
   "input_path": "__notebook__.ipynb",
   "output_path": "__notebook__.ipynb",
   "parameters": {},
   "start_time": "2024-01-09T10:01:48.071549",
   "version": "2.4.0"
  }
 },
 "nbformat": 4,
 "nbformat_minor": 5
}
