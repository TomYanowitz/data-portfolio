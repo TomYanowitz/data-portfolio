{
 "cells": [
  {
   "cell_type": "markdown",
   "id": "fc302abb-fda6-4aaa-b136-18f12de88fb0",
   "metadata": {},
   "source": [
    "# EXPLORING A YELP DATASET HELLO"
   ]
  },
  {
   "cell_type": "code",
   "execution_count": 42,
   "id": "206e5455-f463-4d55-ae8a-c32b7fc659f6",
   "metadata": {
    "tags": []
   },
   "outputs": [],
   "source": [
    "import numpy as np\n",
    "import pandas as pd\n",
    "import sqlite3\n",
    "import matplotlib.pyplot as plt"
   ]
  },
  {
   "cell_type": "code",
   "execution_count": 16,
   "id": "49fa2cf5-ed94-4b68-8a35-84946ab25224",
   "metadata": {
    "tags": []
   },
   "outputs": [],
   "source": [
    "pd.options.display.max_rows = 50 # maximum number of rows to display"
   ]
  },
  {
   "cell_type": "code",
   "execution_count": 40,
   "id": "e3ac8d15-246d-40b7-b28e-2f9de299b1c0",
   "metadata": {
    "tags": []
   },
   "outputs": [
    {
     "name": "stdout",
     "output_type": "stream",
     "text": [
      "The sql extension is already loaded. To reload it, use:\n",
      "  %reload_ext sql\n"
     ]
    }
   ],
   "source": [
    "%load_ext sql\n",
    "# %config SqlMagic.autocommit=False\n",
    "%sql sqlite:///../yelp_10k.sqlite"
   ]
  },
  {
   "cell_type": "code",
   "execution_count": 46,
   "id": "ace7c275-e2b2-43c9-809a-ae493964c9a8",
   "metadata": {
    "tags": []
   },
   "outputs": [
    {
     "data": {
      "text/html": [
       "<span style=\"None\">Running query in &#x27;sqlite:///../yelp_10k.sqlite&#x27;</span>"
      ],
      "text/plain": [
       "Running query in 'sqlite:///../yelp_10k.sqlite'"
      ]
     },
     "metadata": {},
     "output_type": "display_data"
    },
    {
     "data": {
      "text/html": [
       "<table>\n",
       "    <thead>\n",
       "        <tr>\n",
       "            <th>nb_null</th>\n",
       "        </tr>\n",
       "    </thead>\n",
       "    <tbody>\n",
       "        <tr>\n",
       "            <td>0</td>\n",
       "        </tr>\n",
       "    </tbody>\n",
       "</table>"
      ],
      "text/plain": [
       "+---------+\n",
       "| nb_null |\n",
       "+---------+\n",
       "|    0    |\n",
       "+---------+"
      ]
     },
     "execution_count": 46,
     "metadata": {},
     "output_type": "execute_result"
    }
   ],
   "source": [
    "%%sql\n",
    "SELECT\n",
    "  COUNT(*) AS nb_null\n",
    "FROM\n",
    "  USER\n",
    "WHERE\n",
    "  id IS NULL\n",
    "  OR NAME IS NULL\n",
    "  OR review_count IS NULL\n",
    "  OR yelping_since IS NULL\n",
    "  OR useful IS NULL\n",
    "  OR funny IS NULL\n",
    "  OR cool IS NULL\n",
    "  OR fans IS NULL\n",
    "  OR average_stars IS NULL\n",
    "  OR compliment_hot IS NULL\n",
    "  OR compliment_more IS NULL\n",
    "  OR compliment_profile IS NULL\n",
    "  OR compliment_cute IS NULL\n",
    "  OR compliment_list IS NULL\n",
    "  OR compliment_note IS NULL\n",
    "  OR compliment_plain IS NULL\n",
    "  OR compliment_cool IS NULL\n",
    "  OR compliment_funny IS NULL\n",
    "  OR compliment_writer IS NULL\n",
    "  OR compliment_photos IS NULL"
   ]
  },
  {
   "cell_type": "markdown",
   "id": "86492eb8-5600-4321-9543-5abebd0f6a1a",
   "metadata": {},
   "source": [
    "We can see than none have null values"
   ]
  },
  {
   "cell_type": "code",
   "execution_count": 48,
   "id": "e3723f60-e446-481d-87d4-772e7560ba04",
   "metadata": {
    "tags": []
   },
   "outputs": [
    {
     "data": {
      "text/html": [
       "<span style=\"None\">Running query in &#x27;sqlite:///../yelp_10k.sqlite&#x27;</span>"
      ],
      "text/plain": [
       "Running query in 'sqlite:///../yelp_10k.sqlite'"
      ]
     },
     "metadata": {},
     "output_type": "display_data"
    },
    {
     "data": {
      "text/html": [
       "<table>\n",
       "    <thead>\n",
       "        <tr>\n",
       "            <th>city</th>\n",
       "            <th>tot_nb_reviews</th>\n",
       "        </tr>\n",
       "    </thead>\n",
       "    <tbody>\n",
       "        <tr>\n",
       "            <td>Philadelphia</td>\n",
       "            <td>62134</td>\n",
       "        </tr>\n",
       "        <tr>\n",
       "            <td>New Orleans</td>\n",
       "            <td>51780</td>\n",
       "        </tr>\n",
       "        <tr>\n",
       "            <td>Nashville</td>\n",
       "            <td>32161</td>\n",
       "        </tr>\n",
       "        <tr>\n",
       "            <td>Tampa</td>\n",
       "            <td>29893</td>\n",
       "        </tr>\n",
       "        <tr>\n",
       "            <td>Tucson</td>\n",
       "            <td>26366</td>\n",
       "        </tr>\n",
       "        <tr>\n",
       "            <td>Reno</td>\n",
       "            <td>25826</td>\n",
       "        </tr>\n",
       "        <tr>\n",
       "            <td>Indianapolis</td>\n",
       "            <td>23151</td>\n",
       "        </tr>\n",
       "        <tr>\n",
       "            <td>Santa Barbara</td>\n",
       "            <td>19463</td>\n",
       "        </tr>\n",
       "        <tr>\n",
       "            <td>Saint Louis</td>\n",
       "            <td>14309</td>\n",
       "        </tr>\n",
       "        <tr>\n",
       "            <td>Edmonton</td>\n",
       "            <td>6830</td>\n",
       "        </tr>\n",
       "    </tbody>\n",
       "</table>\n",
       "<span style=\"font-style:italic;text-align:center;\">Truncated to <a href=\"https://jupysql.ploomber.io/en/latest/api/configuration.html#displaylimit\">displaylimit</a> of 10.</span>"
      ],
      "text/plain": [
       "+---------------+----------------+\n",
       "|      city     | tot_nb_reviews |\n",
       "+---------------+----------------+\n",
       "|  Philadelphia |     62134      |\n",
       "|  New Orleans  |     51780      |\n",
       "|   Nashville   |     32161      |\n",
       "|     Tampa     |     29893      |\n",
       "|     Tucson    |     26366      |\n",
       "|      Reno     |     25826      |\n",
       "|  Indianapolis |     23151      |\n",
       "| Santa Barbara |     19463      |\n",
       "|  Saint Louis  |     14309      |\n",
       "|    Edmonton   |      6830      |\n",
       "+---------------+----------------+\n",
       "Truncated to displaylimit of 10."
      ]
     },
     "execution_count": 48,
     "metadata": {},
     "output_type": "execute_result"
    }
   ],
   "source": [
    "%%sql\n",
    "SELECT\n",
    "  city,\n",
    "  SUM(review_count) tot_nb_reviews\n",
    "FROM\n",
    "  business\n",
    "GROUP BY\n",
    "  city\n",
    "ORDER BY\n",
    "  tot_nb_reviews DESC\n",
    "LIMIT\n",
    "  10"
   ]
  },
  {
   "cell_type": "code",
   "execution_count": 20,
   "id": "b02bbf9e-e1ed-4311-8b45-da85a32cb090",
   "metadata": {
    "tags": []
   },
   "outputs": [
    {
     "data": {
      "text/html": [
       "<span style=\"None\">Running query in &#x27;sqlite:///../yelp_10k.sqlite&#x27;</span>"
      ],
      "text/plain": [
       "Running query in 'sqlite:///../yelp_10k.sqlite'"
      ]
     },
     "metadata": {},
     "output_type": "display_data"
    },
    {
     "data": {
      "text/html": [
       "<table>\n",
       "    <thead>\n",
       "        <tr>\n",
       "            <th>name</th>\n",
       "            <th>review_count</th>\n",
       "        </tr>\n",
       "    </thead>\n",
       "    <tbody>\n",
       "        <tr>\n",
       "            <td>Bruce</td>\n",
       "            <td>16567</td>\n",
       "        </tr>\n",
       "        <tr>\n",
       "            <td>Kim</td>\n",
       "            <td>9941</td>\n",
       "        </tr>\n",
       "        <tr>\n",
       "            <td>Nijole</td>\n",
       "            <td>8363</td>\n",
       "        </tr>\n",
       "    </tbody>\n",
       "</table>"
      ],
      "text/plain": [
       "+--------+--------------+\n",
       "|  name  | review_count |\n",
       "+--------+--------------+\n",
       "| Bruce  |    16567     |\n",
       "|  Kim   |     9941     |\n",
       "| Nijole |     8363     |\n",
       "+--------+--------------+"
      ]
     },
     "execution_count": 20,
     "metadata": {},
     "output_type": "execute_result"
    }
   ],
   "source": [
    "%%sql\n",
    "SELECT\n",
    "  name,\n",
    "  review_count\n",
    "FROM\n",
    "  USER\n",
    "ORDER BY\n",
    "  review_count DESC\n",
    "LIMIT\n",
    "  3"
   ]
  },
  {
   "cell_type": "markdown",
   "id": "20e2b54e-2cd7-4a64-9075-4e1b6c67547f",
   "metadata": {},
   "source": [
    "*8. Does posting more reviews correlate with more fans?*\n",
    "\n",
    "Hard to tell, we would need to calculate the correlation factor between the two columns. I don't know how to do this with SQL alone.\n",
    "\n",
    "*Please explain your findings and interpretation of the results:*"
   ]
  },
  {
   "cell_type": "code",
   "execution_count": 21,
   "id": "bc2a25e9-8f52-415e-b7a7-a9597a3a2624",
   "metadata": {
    "tags": []
   },
   "outputs": [
    {
     "data": {
      "text/html": [
       "<span style=\"None\">Running query in &#x27;sqlite:///../yelp_10k.sqlite&#x27;</span>"
      ],
      "text/plain": [
       "Running query in 'sqlite:///../yelp_10k.sqlite'"
      ]
     },
     "metadata": {},
     "output_type": "display_data"
    },
    {
     "data": {
      "text/html": [
       "<table>\n",
       "    <thead>\n",
       "        <tr>\n",
       "            <th>name</th>\n",
       "            <th>review_count</th>\n",
       "            <th>fans</th>\n",
       "        </tr>\n",
       "    </thead>\n",
       "    <tbody>\n",
       "        <tr>\n",
       "            <td>Bruce</td>\n",
       "            <td>16567</td>\n",
       "            <td>867</td>\n",
       "        </tr>\n",
       "        <tr>\n",
       "            <td>Kim</td>\n",
       "            <td>9941</td>\n",
       "            <td>825</td>\n",
       "        </tr>\n",
       "        <tr>\n",
       "            <td>Nijole</td>\n",
       "            <td>8363</td>\n",
       "            <td>921</td>\n",
       "        </tr>\n",
       "        <tr>\n",
       "            <td>George</td>\n",
       "            <td>7738</td>\n",
       "            <td>288</td>\n",
       "        </tr>\n",
       "        <tr>\n",
       "            <td>Jennifer</td>\n",
       "            <td>6679</td>\n",
       "            <td>828</td>\n",
       "        </tr>\n",
       "        <tr>\n",
       "            <td>Sunil</td>\n",
       "            <td>6459</td>\n",
       "            <td>186</td>\n",
       "        </tr>\n",
       "        <tr>\n",
       "            <td>Eric</td>\n",
       "            <td>5887</td>\n",
       "            <td>444</td>\n",
       "        </tr>\n",
       "        <tr>\n",
       "            <td>Ed</td>\n",
       "            <td>5800</td>\n",
       "            <td>2251</td>\n",
       "        </tr>\n",
       "        <tr>\n",
       "            <td>Rob</td>\n",
       "            <td>5511</td>\n",
       "            <td>445</td>\n",
       "        </tr>\n",
       "        <tr>\n",
       "            <td>Misha</td>\n",
       "            <td>5163</td>\n",
       "            <td>197</td>\n",
       "        </tr>\n",
       "    </tbody>\n",
       "</table>\n",
       "<span style=\"font-style:italic;text-align:center;\">Truncated to <a href=\"https://jupysql.ploomber.io/en/latest/api/configuration.html#displaylimit\">displaylimit</a> of 10.</span>"
      ],
      "text/plain": [
       "+----------+--------------+------+\n",
       "|   name   | review_count | fans |\n",
       "+----------+--------------+------+\n",
       "|  Bruce   |    16567     | 867  |\n",
       "|   Kim    |     9941     | 825  |\n",
       "|  Nijole  |     8363     | 921  |\n",
       "|  George  |     7738     | 288  |\n",
       "| Jennifer |     6679     | 828  |\n",
       "|  Sunil   |     6459     | 186  |\n",
       "|   Eric   |     5887     | 444  |\n",
       "|    Ed    |     5800     | 2251 |\n",
       "|   Rob    |     5511     | 445  |\n",
       "|  Misha   |     5163     | 197  |\n",
       "+----------+--------------+------+\n",
       "Truncated to displaylimit of 10."
      ]
     },
     "execution_count": 21,
     "metadata": {},
     "output_type": "execute_result"
    }
   ],
   "source": [
    "%%sql\n",
    "SELECT\n",
    "  name,\n",
    "  review_count,\n",
    "  fans\n",
    "FROM\n",
    "  USER\n",
    "ORDER BY\n",
    "  review_count DESC\n",
    "LIMIT\n",
    "  15"
   ]
  },
  {
   "cell_type": "markdown",
   "id": "fdbfda0d-4595-4e8a-967f-3e3db6093d3b",
   "metadata": {
    "tags": []
   },
   "source": [
    "If we order my most fans"
   ]
  },
  {
   "cell_type": "code",
   "execution_count": 22,
   "id": "d3df505d-47a5-4ce4-bc10-3267fc48de3a",
   "metadata": {
    "tags": []
   },
   "outputs": [
    {
     "data": {
      "text/html": [
       "<span style=\"None\">Running query in &#x27;sqlite:///../yelp_10k.sqlite&#x27;</span>"
      ],
      "text/plain": [
       "Running query in 'sqlite:///../yelp_10k.sqlite'"
      ]
     },
     "metadata": {},
     "output_type": "display_data"
    },
    {
     "data": {
      "text/html": [
       "<table>\n",
       "    <thead>\n",
       "        <tr>\n",
       "            <th>name</th>\n",
       "            <th>review_count</th>\n",
       "            <th>fans</th>\n",
       "        </tr>\n",
       "    </thead>\n",
       "    <tbody>\n",
       "        <tr>\n",
       "            <td>Mike</td>\n",
       "            <td>1882</td>\n",
       "            <td>12497</td>\n",
       "        </tr>\n",
       "        <tr>\n",
       "            <td>Daniel</td>\n",
       "            <td>4333</td>\n",
       "            <td>3138</td>\n",
       "        </tr>\n",
       "        <tr>\n",
       "            <td>Jessica</td>\n",
       "            <td>2101</td>\n",
       "            <td>2627</td>\n",
       "        </tr>\n",
       "        <tr>\n",
       "            <td>Peter</td>\n",
       "            <td>3193</td>\n",
       "            <td>2388</td>\n",
       "        </tr>\n",
       "        <tr>\n",
       "            <td>Ed</td>\n",
       "            <td>5800</td>\n",
       "            <td>2251</td>\n",
       "        </tr>\n",
       "        <tr>\n",
       "            <td>Brittany</td>\n",
       "            <td>2492</td>\n",
       "            <td>2086</td>\n",
       "        </tr>\n",
       "        <tr>\n",
       "            <td>Farrah</td>\n",
       "            <td>2073</td>\n",
       "            <td>2073</td>\n",
       "        </tr>\n",
       "        <tr>\n",
       "            <td>Stephanie</td>\n",
       "            <td>2000</td>\n",
       "            <td>1761</td>\n",
       "        </tr>\n",
       "        <tr>\n",
       "            <td>Kimi</td>\n",
       "            <td>1761</td>\n",
       "            <td>1620</td>\n",
       "        </tr>\n",
       "        <tr>\n",
       "            <td>Helina</td>\n",
       "            <td>1645</td>\n",
       "            <td>1570</td>\n",
       "        </tr>\n",
       "    </tbody>\n",
       "</table>\n",
       "<span style=\"font-style:italic;text-align:center;\">Truncated to <a href=\"https://jupysql.ploomber.io/en/latest/api/configuration.html#displaylimit\">displaylimit</a> of 10.</span>"
      ],
      "text/plain": [
       "+-----------+--------------+-------+\n",
       "|    name   | review_count |  fans |\n",
       "+-----------+--------------+-------+\n",
       "|    Mike   |     1882     | 12497 |\n",
       "|   Daniel  |     4333     |  3138 |\n",
       "|  Jessica  |     2101     |  2627 |\n",
       "|   Peter   |     3193     |  2388 |\n",
       "|     Ed    |     5800     |  2251 |\n",
       "|  Brittany |     2492     |  2086 |\n",
       "|   Farrah  |     2073     |  2073 |\n",
       "| Stephanie |     2000     |  1761 |\n",
       "|    Kimi   |     1761     |  1620 |\n",
       "|   Helina  |     1645     |  1570 |\n",
       "+-----------+--------------+-------+\n",
       "Truncated to displaylimit of 10."
      ]
     },
     "execution_count": 22,
     "metadata": {},
     "output_type": "execute_result"
    }
   ],
   "source": [
    "%%sql\n",
    "SELECT\n",
    "  name,\n",
    "  review_count,\n",
    "  fans\n",
    "FROM\n",
    "  USER\n",
    "ORDER BY\n",
    "  fans DESC\n",
    "LIMIT\n",
    "  15"
   ]
  },
  {
   "cell_type": "markdown",
   "id": "732ea0e6-9602-4549-b029-2aee44b213b9",
   "metadata": {},
   "source": [
    "summary"
   ]
  },
  {
   "cell_type": "code",
   "execution_count": 23,
   "id": "d148cff1-ae73-45d9-b141-91e836a33244",
   "metadata": {
    "tags": []
   },
   "outputs": [
    {
     "data": {
      "text/html": [
       "<span style=\"None\">Running query in &#x27;sqlite:///../yelp_10k.sqlite&#x27;</span>"
      ],
      "text/plain": [
       "Running query in 'sqlite:///../yelp_10k.sqlite'"
      ]
     },
     "metadata": {},
     "output_type": "display_data"
    },
    {
     "data": {
      "text/html": [
       "<table>\n",
       "    <thead>\n",
       "        <tr>\n",
       "            <th>name</th>\n",
       "            <th>review_count</th>\n",
       "            <th>fans</th>\n",
       "            <th>nb_fans_per_review</th>\n",
       "        </tr>\n",
       "    </thead>\n",
       "    <tbody>\n",
       "        <tr>\n",
       "            <td>Mike</td>\n",
       "            <td>1882</td>\n",
       "            <td>12497</td>\n",
       "            <td>6</td>\n",
       "        </tr>\n",
       "        <tr>\n",
       "            <td>Michael</td>\n",
       "            <td>3</td>\n",
       "            <td>6</td>\n",
       "            <td>2</td>\n",
       "        </tr>\n",
       "        <tr>\n",
       "            <td>Mark</td>\n",
       "            <td>1</td>\n",
       "            <td>2</td>\n",
       "            <td>2</td>\n",
       "        </tr>\n",
       "        <tr>\n",
       "            <td>Chef Frisco</td>\n",
       "            <td>4</td>\n",
       "            <td>8</td>\n",
       "            <td>2</td>\n",
       "        </tr>\n",
       "        <tr>\n",
       "            <td>Amanda</td>\n",
       "            <td>3</td>\n",
       "            <td>7</td>\n",
       "            <td>2</td>\n",
       "        </tr>\n",
       "        <tr>\n",
       "            <td>Jess</td>\n",
       "            <td>1</td>\n",
       "            <td>2</td>\n",
       "            <td>2</td>\n",
       "        </tr>\n",
       "        <tr>\n",
       "            <td>chris</td>\n",
       "            <td>1</td>\n",
       "            <td>2</td>\n",
       "            <td>2</td>\n",
       "        </tr>\n",
       "        <tr>\n",
       "            <td>Jane</td>\n",
       "            <td>1221</td>\n",
       "            <td>1357</td>\n",
       "            <td>1</td>\n",
       "        </tr>\n",
       "        <tr>\n",
       "            <td>Jessica</td>\n",
       "            <td>2101</td>\n",
       "            <td>2627</td>\n",
       "            <td>1</td>\n",
       "        </tr>\n",
       "        <tr>\n",
       "            <td>Farrah</td>\n",
       "            <td>2073</td>\n",
       "            <td>2073</td>\n",
       "            <td>1</td>\n",
       "        </tr>\n",
       "    </tbody>\n",
       "</table>\n",
       "<span style=\"font-style:italic;text-align:center;\">Truncated to <a href=\"https://jupysql.ploomber.io/en/latest/api/configuration.html#displaylimit\">displaylimit</a> of 10.</span>"
      ],
      "text/plain": [
       "+-------------+--------------+-------+--------------------+\n",
       "|     name    | review_count |  fans | nb_fans_per_review |\n",
       "+-------------+--------------+-------+--------------------+\n",
       "|     Mike    |     1882     | 12497 |         6          |\n",
       "|   Michael   |      3       |   6   |         2          |\n",
       "|     Mark    |      1       |   2   |         2          |\n",
       "| Chef Frisco |      4       |   8   |         2          |\n",
       "|    Amanda   |      3       |   7   |         2          |\n",
       "|     Jess    |      1       |   2   |         2          |\n",
       "|    chris    |      1       |   2   |         2          |\n",
       "|     Jane    |     1221     |  1357 |         1          |\n",
       "|   Jessica   |     2101     |  2627 |         1          |\n",
       "|    Farrah   |     2073     |  2073 |         1          |\n",
       "+-------------+--------------+-------+--------------------+\n",
       "Truncated to displaylimit of 10."
      ]
     },
     "execution_count": 23,
     "metadata": {},
     "output_type": "execute_result"
    }
   ],
   "source": [
    "%%sql\n",
    "SELECT\n",
    "  name,\n",
    "  review_count,\n",
    "  fans,\n",
    "  fans / review_count AS nb_fans_per_review\n",
    "FROM\n",
    "  USER\n",
    "ORDER BY\n",
    "  nb_fans_per_review DESC\n",
    "LIMIT\n",
    "  15"
   ]
  },
  {
   "cell_type": "markdown",
   "id": "1b4e391e-e2c6-472c-a18a-c204183ed366",
   "metadata": {},
   "source": [
    "Something I was trying to attempt is to divide users into 4 quartiles based on their review_count, and then compute the average or median number of fans for each quartile.\n",
    "\n",
    "This is a more basic way to visualize a correlation.\n",
    "\n",
    "I wanted to use the NTILE function but it doesn't appear to be supported by SQLite."
   ]
  },
  {
   "cell_type": "code",
   "execution_count": 24,
   "id": "e105a5f3-770a-41db-82b8-0490fede53d8",
   "metadata": {
    "tags": []
   },
   "outputs": [
    {
     "data": {
      "text/html": [
       "<span style=\"None\">Running query in &#x27;sqlite:///../yelp_10k.sqlite&#x27;</span>"
      ],
      "text/plain": [
       "Running query in 'sqlite:///../yelp_10k.sqlite'"
      ]
     },
     "metadata": {},
     "output_type": "display_data"
    },
    {
     "data": {
      "text/html": [
       "<table>\n",
       "    <thead>\n",
       "        <tr>\n",
       "            <th>name</th>\n",
       "            <th>review_count</th>\n",
       "            <th>fans</th>\n",
       "            <th>review_count_quartiles</th>\n",
       "        </tr>\n",
       "    </thead>\n",
       "    <tbody>\n",
       "        <tr>\n",
       "            <td>charles</td>\n",
       "            <td>1</td>\n",
       "            <td>0</td>\n",
       "            <td>1</td>\n",
       "        </tr>\n",
       "        <tr>\n",
       "            <td>Meg</td>\n",
       "            <td>1</td>\n",
       "            <td>0</td>\n",
       "            <td>1</td>\n",
       "        </tr>\n",
       "        <tr>\n",
       "            <td>Paul</td>\n",
       "            <td>1</td>\n",
       "            <td>0</td>\n",
       "            <td>1</td>\n",
       "        </tr>\n",
       "        <tr>\n",
       "            <td>Jeremy</td>\n",
       "            <td>1</td>\n",
       "            <td>0</td>\n",
       "            <td>1</td>\n",
       "        </tr>\n",
       "        <tr>\n",
       "            <td>Andrew</td>\n",
       "            <td>1</td>\n",
       "            <td>1</td>\n",
       "            <td>1</td>\n",
       "        </tr>\n",
       "        <tr>\n",
       "            <td>Kevin</td>\n",
       "            <td>1</td>\n",
       "            <td>0</td>\n",
       "            <td>1</td>\n",
       "        </tr>\n",
       "        <tr>\n",
       "            <td>Brandon</td>\n",
       "            <td>1</td>\n",
       "            <td>0</td>\n",
       "            <td>1</td>\n",
       "        </tr>\n",
       "        <tr>\n",
       "            <td>William</td>\n",
       "            <td>1</td>\n",
       "            <td>0</td>\n",
       "            <td>1</td>\n",
       "        </tr>\n",
       "        <tr>\n",
       "            <td>Mark</td>\n",
       "            <td>1</td>\n",
       "            <td>2</td>\n",
       "            <td>1</td>\n",
       "        </tr>\n",
       "        <tr>\n",
       "            <td>James</td>\n",
       "            <td>1</td>\n",
       "            <td>0</td>\n",
       "            <td>1</td>\n",
       "        </tr>\n",
       "    </tbody>\n",
       "</table>\n",
       "<span style=\"font-style:italic;text-align:center;\">Truncated to <a href=\"https://jupysql.ploomber.io/en/latest/api/configuration.html#displaylimit\">displaylimit</a> of 10.</span>"
      ],
      "text/plain": [
       "+---------+--------------+------+------------------------+\n",
       "|   name  | review_count | fans | review_count_quartiles |\n",
       "+---------+--------------+------+------------------------+\n",
       "| charles |      1       |  0   |           1            |\n",
       "|   Meg   |      1       |  0   |           1            |\n",
       "|   Paul  |      1       |  0   |           1            |\n",
       "|  Jeremy |      1       |  0   |           1            |\n",
       "|  Andrew |      1       |  1   |           1            |\n",
       "|  Kevin  |      1       |  0   |           1            |\n",
       "| Brandon |      1       |  0   |           1            |\n",
       "| William |      1       |  0   |           1            |\n",
       "|   Mark  |      1       |  2   |           1            |\n",
       "|  James  |      1       |  0   |           1            |\n",
       "+---------+--------------+------+------------------------+\n",
       "Truncated to displaylimit of 10."
      ]
     },
     "execution_count": 24,
     "metadata": {},
     "output_type": "execute_result"
    }
   ],
   "source": [
    "%%sql\n",
    "SELECT\n",
    "  name,\n",
    "  review_count,\n",
    "  fans,\n",
    "  NTILE (4) OVER (\n",
    "    ORDER BY\n",
    "      review_count\n",
    "  ) review_count_quartiles\n",
    "FROM\n",
    "  USER\n",
    "ORDER BY\n",
    "  review_count\n",
    "LIMIT\n",
    "  10"
   ]
  },
  {
   "cell_type": "markdown",
   "id": "56c5134f-a445-4bca-9945-17280b193d67",
   "metadata": {},
   "source": [
    "-- MANUAL GROUP BY\n",
    "-- I started looking for the four quartiles manually but the distribution was so stacked to the left it didn't makle much sense.\n",
    "--First quartiles was a review count of 0 or 1. So I made up some thresholds instead :\n",
    "-- Users in the top 100 (top 1%), the top 1000 (10%), top 5000 (top half) and bottom 5000 (bottom half)\n",
    "\n",
    "total number of users : 10000\n",
    "\n",
    "TOP 100 : WHERE review_count >= 344\t\t\t\t\t\t\t\tavg nb of fans : 56.96\n",
    "TOP 1000 : WHERE review_count >= 49 AND review_count < 344\t\tavg nb of fans : 7.41\n",
    "TOP 5000 : WHERE review_count >= 6 AND review_count < 49\t\tavg nb of fans : 0.59\n",
    "BOTTOM 5000 : WHERE review_count < 6\t\t\t\t\t\t\tavg nb of fans : 0.06\n",
    "\n",
    "-- I found each threshold with a simple count() query.\n",
    "-- Result : There does seem to be a positive correlation if we group users in this way."
   ]
  },
  {
   "cell_type": "markdown",
   "id": "1f2f9380-8184-4d4c-8779-7e358aa2d5d0",
   "metadata": {},
   "source": [
    "-- 9. Are there more reviews with the word \"love\" or with the word \"hate\" in them?"
   ]
  },
  {
   "cell_type": "code",
   "execution_count": 37,
   "id": "a0dafc1b-a345-4b3f-9394-ed6d9e5295be",
   "metadata": {
    "tags": []
   },
   "outputs": [
    {
     "data": {
      "text/html": [
       "<span style=\"None\">Running query in &#x27;sqlite:///../yelp_10k.sqlite&#x27;</span>"
      ],
      "text/plain": [
       "Running query in 'sqlite:///../yelp_10k.sqlite'"
      ]
     },
     "metadata": {},
     "output_type": "display_data"
    },
    {
     "data": {
      "text/html": [
       "<table>\n",
       "    <thead>\n",
       "        <tr>\n",
       "            <th>love_count</th>\n",
       "            <th>hate_count</th>\n",
       "        </tr>\n",
       "    </thead>\n",
       "    <tbody>\n",
       "        <tr>\n",
       "            <td>1887</td>\n",
       "            <td>210</td>\n",
       "        </tr>\n",
       "    </tbody>\n",
       "</table>"
      ],
      "text/plain": [
       "+------------+------------+\n",
       "| love_count | hate_count |\n",
       "+------------+------------+\n",
       "|    1887    |    210     |\n",
       "+------------+------------+"
      ]
     },
     "execution_count": 37,
     "metadata": {},
     "output_type": "execute_result"
    }
   ],
   "source": [
    "%%sql\n",
    "SELECT\n",
    "  SUM(\n",
    "    CASE\n",
    "      WHEN text LIKE '%love%' THEN 1\n",
    "      ELSE 0\n",
    "    END\n",
    "  ) AS love_count,\n",
    "  SUM(\n",
    "    CASE\n",
    "      WHEN text LIKE '%hate%' THEN 1\n",
    "      ELSE 0\n",
    "    END\n",
    "  ) AS hate_count\n",
    "FROM\n",
    "  review"
   ]
  },
  {
   "cell_type": "markdown",
   "id": "57ee4bed-8acd-491b-a445-0d0664ab8f64",
   "metadata": {},
   "source": [
    "Answer: love"
   ]
  },
  {
   "cell_type": "markdown",
   "id": "f60c7802-645b-4129-b988-c841fdd0fdab",
   "metadata": {},
   "source": [
    "10. Find the top 10 users with the most fans:"
   ]
  },
  {
   "cell_type": "code",
   "execution_count": 47,
   "id": "2fc095ff-3df4-46ca-8ffd-be1ad0472180",
   "metadata": {
    "tags": []
   },
   "outputs": [
    {
     "data": {
      "text/html": [
       "<span style=\"None\">Running query in &#x27;sqlite:///../yelp_10k.sqlite&#x27;</span>"
      ],
      "text/plain": [
       "Running query in 'sqlite:///../yelp_10k.sqlite'"
      ]
     },
     "metadata": {},
     "output_type": "display_data"
    },
    {
     "data": {
      "text/html": [
       "<table>\n",
       "    <thead>\n",
       "        <tr>\n",
       "            <th>name</th>\n",
       "            <th>fans</th>\n",
       "        </tr>\n",
       "    </thead>\n",
       "    <tbody>\n",
       "        <tr>\n",
       "            <td>Mike</td>\n",
       "            <td>12497</td>\n",
       "        </tr>\n",
       "        <tr>\n",
       "            <td>Daniel</td>\n",
       "            <td>3138</td>\n",
       "        </tr>\n",
       "        <tr>\n",
       "            <td>Jessica</td>\n",
       "            <td>2627</td>\n",
       "        </tr>\n",
       "        <tr>\n",
       "            <td>Peter</td>\n",
       "            <td>2388</td>\n",
       "        </tr>\n",
       "        <tr>\n",
       "            <td>Ed</td>\n",
       "            <td>2251</td>\n",
       "        </tr>\n",
       "        <tr>\n",
       "            <td>Brittany</td>\n",
       "            <td>2086</td>\n",
       "        </tr>\n",
       "        <tr>\n",
       "            <td>Farrah</td>\n",
       "            <td>2073</td>\n",
       "        </tr>\n",
       "        <tr>\n",
       "            <td>Stephanie</td>\n",
       "            <td>1761</td>\n",
       "        </tr>\n",
       "        <tr>\n",
       "            <td>Kimi</td>\n",
       "            <td>1620</td>\n",
       "        </tr>\n",
       "        <tr>\n",
       "            <td>Helina</td>\n",
       "            <td>1570</td>\n",
       "        </tr>\n",
       "    </tbody>\n",
       "</table>\n",
       "<span style=\"font-style:italic;text-align:center;\">Truncated to <a href=\"https://jupysql.ploomber.io/en/latest/api/configuration.html#displaylimit\">displaylimit</a> of 10.</span>"
      ],
      "text/plain": [
       "+-----------+-------+\n",
       "|    name   |  fans |\n",
       "+-----------+-------+\n",
       "|    Mike   | 12497 |\n",
       "|   Daniel  |  3138 |\n",
       "|  Jessica  |  2627 |\n",
       "|   Peter   |  2388 |\n",
       "|     Ed    |  2251 |\n",
       "|  Brittany |  2086 |\n",
       "|   Farrah  |  2073 |\n",
       "| Stephanie |  1761 |\n",
       "|    Kimi   |  1620 |\n",
       "|   Helina  |  1570 |\n",
       "+-----------+-------+\n",
       "Truncated to displaylimit of 10."
      ]
     },
     "execution_count": 47,
     "metadata": {},
     "output_type": "execute_result"
    }
   ],
   "source": [
    "%%sql\n",
    "SELECT\n",
    "  name,\n",
    "  fans\n",
    "FROM\n",
    "  USER\n",
    "ORDER BY\n",
    "  fans DESC\n",
    "LIMIT\n",
    "  10"
   ]
  },
  {
   "cell_type": "markdown",
   "id": "f57167df-6f47-46bf-9524-8b551ff14254",
   "metadata": {},
   "source": [
    "# Part 2: Inferences and Analysis"
   ]
  },
  {
   "cell_type": "markdown",
   "id": "3586fb86-55c8-4f10-a88f-1ba4d853e8dd",
   "metadata": {},
   "source": [
    "-- 1. Pick one city and category of your choice and group the businesses in that city or category by their overall star rating.\n",
    "--Compare the businesses with 2-3 stars to the businesses with 4-5 stars and answer the following questions. Include your code.\n",
    "\t\n",
    "-- i. Do the two groups you chose to analyze have a different distribution of hours?\n",
    "\n",
    "-- What do they mean by distribution of hours ?\n",
    "\n",
    "-- We have two groups, seven days, and different types of opening hours for each day and business. What is meant by distribution of hours exactly ?\n",
    "\n",
    "-- I can create a weekly hours thing with the 168 hours\n",
    "-- then do so some sort of histogram\n",
    "-- Final table : mediocre vs high.\n",
    "-- Rows : all 168h but could hide the ones with 0%\n",
    "-- Share of mediocre restos open at that time vs share for high.\n",
    "\n",
    "-- It's probably more advanced that what they're asking\n",
    "-- ONCE we (inner) join the business and hours table, we're only left with 743 entries for the whole country.\n",
    "-- There are 10k unique ids in the business table, and 1562 in the hours table, 10k overall.\n",
    "-- Once we join them we're left with\n",
    "-- - 743 rows\n",
    "-- - 117 businesses\n",
    "-- This is problematic as the sample size is getting smaller, and will likely be too small once we focus on a specific city\n",
    "\n",
    "-- IF I filter for las vegas, one of the cities with the most businessess in the business table, I'm left with only 13 establishments.\n",
    "\n",
    "--ENTIRE QUERY (click to expand)"
   ]
  },
  {
   "cell_type": "code",
   "execution_count": 27,
   "id": "6966a2b2-4d39-478c-8ca1-c34f7bb60853",
   "metadata": {
    "tags": []
   },
   "outputs": [
    {
     "data": {
      "text/html": [
       "<span style=\"None\">Running query in &#x27;sqlite:///../yelp_10k.sqlite&#x27;</span>"
      ],
      "text/plain": [
       "Running query in 'sqlite:///../yelp_10k.sqlite'"
      ]
     },
     "metadata": {},
     "output_type": "display_data"
    },
    {
     "data": {
      "text/html": [
       "<table>\n",
       "    <thead>\n",
       "        <tr>\n",
       "            <th>cat_rating</th>\n",
       "            <th>nb_of_businesses</th>\n",
       "            <th>avg_nb_weekly_opening_hours</th>\n",
       "        </tr>\n",
       "    </thead>\n",
       "    <tbody>\n",
       "        <tr>\n",
       "            <td>High</td>\n",
       "            <td>4482</td>\n",
       "            <td>41.4</td>\n",
       "        </tr>\n",
       "        <tr>\n",
       "            <td>Mediocre</td>\n",
       "            <td>2199</td>\n",
       "            <td>54.6</td>\n",
       "        </tr>\n",
       "        <tr>\n",
       "            <td>Other</td>\n",
       "            <td>1811</td>\n",
       "            <td>54.4</td>\n",
       "        </tr>\n",
       "    </tbody>\n",
       "</table>"
      ],
      "text/plain": [
       "+------------+------------------+-----------------------------+\n",
       "| cat_rating | nb_of_businesses | avg_nb_weekly_opening_hours |\n",
       "+------------+------------------+-----------------------------+\n",
       "|    High    |       4482       |             41.4            |\n",
       "|  Mediocre  |       2199       |             54.6            |\n",
       "|   Other    |       1811       |             54.4            |\n",
       "+------------+------------------+-----------------------------+"
      ]
     },
     "execution_count": 27,
     "metadata": {},
     "output_type": "execute_result"
    }
   ],
   "source": [
    "%%sql\n",
    "\n",
    "SELECT \n",
    "    cat_rating,\n",
    "    COUNT(*) as nb_of_businesses,\n",
    "    ROUND(AVG(week_total_open_hours),1) as avg_nb_weekly_opening_hours\n",
    "    FROM\n",
    "    (\n",
    "    SELECT\n",
    "        hours,\n",
    "        SUM(nb_open_hours) as week_total_open_hours,\n",
    "        name,\n",
    "        cat_rating\n",
    "\n",
    "    FROM\n",
    "    (\n",
    "        SELECT --GET TOTAL HOURS OPEN PER WEEK FOR EACH BUSINESS\n",
    "            hours,\n",
    "            day,\n",
    "            TIME(opens_at) as time_open,\n",
    "            TIME(closes_at) as time_closed,\n",
    "            ROUND(\n",
    "                CASE WHEN TIME(closes_at) <= TIME(opens_at) THEN\n",
    "                cast((julianday(closes_at) - julianday(opens_at) + 1) * 24 as float)\n",
    "                ELSE\n",
    "                cast((julianday(closes_at) - julianday(opens_at)) * 24 as float)\n",
    "                END,1) AS nb_open_hours,\n",
    "            name,\n",
    "            cat_rating,\n",
    "            id,\n",
    "            business_id\n",
    "        FROM\n",
    "        (\n",
    "        SELECT\n",
    "                    day,\n",
    "                    opens_at_v0,\n",
    "                    CASE\n",
    "                        WHEN substr(opens_at_v0, -10) LIKE '%-%' THEN substr(opens_at_v0,1,5)\n",
    "                        ELSE substr(opens_at_v0, 1)\n",
    "                        END AS opens_at,\n",
    "                    closes_at,\n",
    "                    TIME(closes_at) as time_close,\n",
    "                    name,\n",
    "                    cat_rating,\n",
    "                    hours, id, business_id\n",
    "                FROM\n",
    "                    (\n",
    "                SELECT --group establishments into High, Mediocre and Other based on their ratings\n",
    "                    id,\n",
    "                    name,\n",
    "                    --stars,\n",
    "                    CASE\n",
    "                    WHEN stars BETWEEN 2 AND 3 THEN 'Mediocre'\n",
    "                    WHEN stars BETWEEN 4 AND 5 THEN 'High'\n",
    "                    ELSE 'Other'\n",
    "                    END AS cat_rating\n",
    "                FROM business\n",
    "                --WHERE city = 'Las Vegas'\n",
    "                ) b\n",
    "                JOIN \n",
    "                (\n",
    "                SELECT --extract day and time from a day-time cell for opening hours\n",
    "                    business_id,\n",
    "                    hours,\n",
    "                    substr(hours, 1, 3) as day,\n",
    "                    CASE\n",
    "                        WHEN substr(hours, -9)  LIKE '%|%' THEN '0' || substr(hours, -8,4)\n",
    "                        WHEN substr(hours, -10) LIKE '%|%' THEN '0' || substr(hours, -9,4)\n",
    "                        WHEN substr(hours, -11) LIKE '%|%' AND substr(hours, -5) NOT LIKE '%-%' THEN '0' || substr(hours, -10,4)\n",
    "                        WHEN substr(hours, -11) LIKE '%|%' AND substr(hours, -5) LIKE '%-%' THEN substr(hours, -10,5)\n",
    "\n",
    "                        ELSE substr(hours, -11,5)\n",
    "                        END AS opens_at_v0,\n",
    "                    CASE\n",
    "                        WHEN substr(hours, -5) LIKE '%-%' THEN '0' || substr(hours, -4)\n",
    "                        ELSE substr(hours, -5)\n",
    "                        END AS closes_at\n",
    "                FROM hours\n",
    "                ) h\n",
    "\n",
    "                on b.id = h.business_id\n",
    "\n",
    "                ORDER BY day, CAST(opens_at AS TIME)\n",
    "        ) \n",
    "    )\n",
    "\n",
    "    GROUP BY id\n",
    ")\n",
    "\n",
    "GROUP BY cat_rating"
   ]
  },
  {
   "cell_type": "markdown",
   "id": "5ab9dff7-b636-4847-8820-f914008163eb",
   "metadata": {},
   "source": [
    "iii. Are you able to infer anything from the location data provided between these two groups? Explain."
   ]
  },
  {
   "cell_type": "code",
   "execution_count": 28,
   "id": "98123001-dd51-48a1-a6fa-6bf9f0326143",
   "metadata": {
    "tags": []
   },
   "outputs": [
    {
     "data": {
      "text/html": [
       "<span style=\"None\">Running query in &#x27;sqlite:///../yelp_10k.sqlite&#x27;</span>"
      ],
      "text/plain": [
       "Running query in 'sqlite:///../yelp_10k.sqlite'"
      ]
     },
     "metadata": {},
     "output_type": "display_data"
    },
    {
     "data": {
      "text/html": [
       "<table>\n",
       "    <thead>\n",
       "        <tr>\n",
       "            <th>city</th>\n",
       "            <th>count</th>\n",
       "            <th>share_high</th>\n",
       "            <th>share_mediocre</th>\n",
       "        </tr>\n",
       "    </thead>\n",
       "    <tbody>\n",
       "        <tr>\n",
       "            <td>Philadelphia</td>\n",
       "            <td>980</td>\n",
       "            <td>49.0</td>\n",
       "            <td>27.0</td>\n",
       "        </tr>\n",
       "        <tr>\n",
       "            <td>Tucson</td>\n",
       "            <td>628</td>\n",
       "            <td>51.0</td>\n",
       "            <td>29.0</td>\n",
       "        </tr>\n",
       "        <tr>\n",
       "            <td>Tampa</td>\n",
       "            <td>624</td>\n",
       "            <td>50.0</td>\n",
       "            <td>25.0</td>\n",
       "        </tr>\n",
       "        <tr>\n",
       "            <td>Indianapolis</td>\n",
       "            <td>503</td>\n",
       "            <td>50.0</td>\n",
       "            <td>29.0</td>\n",
       "        </tr>\n",
       "        <tr>\n",
       "            <td>Nashville</td>\n",
       "            <td>467</td>\n",
       "            <td>53.0</td>\n",
       "            <td>23.0</td>\n",
       "        </tr>\n",
       "        <tr>\n",
       "            <td>New Orleans</td>\n",
       "            <td>440</td>\n",
       "            <td>65.0</td>\n",
       "            <td>16.0</td>\n",
       "        </tr>\n",
       "        <tr>\n",
       "            <td>Reno</td>\n",
       "            <td>418</td>\n",
       "            <td>58.0</td>\n",
       "            <td>21.0</td>\n",
       "        </tr>\n",
       "        <tr>\n",
       "            <td>Edmonton</td>\n",
       "            <td>345</td>\n",
       "            <td>43.0</td>\n",
       "            <td>31.0</td>\n",
       "        </tr>\n",
       "        <tr>\n",
       "            <td>Saint Louis</td>\n",
       "            <td>303</td>\n",
       "            <td>46.0</td>\n",
       "            <td>28.0</td>\n",
       "        </tr>\n",
       "        <tr>\n",
       "            <td>Santa Barbara</td>\n",
       "            <td>267</td>\n",
       "            <td>72.0</td>\n",
       "            <td>15.0</td>\n",
       "        </tr>\n",
       "    </tbody>\n",
       "</table>\n",
       "<span style=\"font-style:italic;text-align:center;\">Truncated to <a href=\"https://jupysql.ploomber.io/en/latest/api/configuration.html#displaylimit\">displaylimit</a> of 10.</span>"
      ],
      "text/plain": [
       "+---------------+-------+------------+----------------+\n",
       "|      city     | count | share_high | share_mediocre |\n",
       "+---------------+-------+------------+----------------+\n",
       "|  Philadelphia |  980  |    49.0    |      27.0      |\n",
       "|     Tucson    |  628  |    51.0    |      29.0      |\n",
       "|     Tampa     |  624  |    50.0    |      25.0      |\n",
       "|  Indianapolis |  503  |    50.0    |      29.0      |\n",
       "|   Nashville   |  467  |    53.0    |      23.0      |\n",
       "|  New Orleans  |  440  |    65.0    |      16.0      |\n",
       "|      Reno     |  418  |    58.0    |      21.0      |\n",
       "|    Edmonton   |  345  |    43.0    |      31.0      |\n",
       "|  Saint Louis  |  303  |    46.0    |      28.0      |\n",
       "| Santa Barbara |  267  |    72.0    |      15.0      |\n",
       "+---------------+-------+------------+----------------+\n",
       "Truncated to displaylimit of 10."
      ]
     },
     "execution_count": 28,
     "metadata": {},
     "output_type": "execute_result"
    }
   ],
   "source": [
    "%%sql\n",
    "\n",
    "SELECT -- QUERY C : share of High rating businesses within the city, share of Mediocre.\n",
    "    city,\n",
    "    count,\n",
    "    ROUND(100*nb_high/count, 1) as share_high,\n",
    "    ROUND(100*nb_mediocre/count, 1) as share_mediocre\n",
    "\n",
    "FROM\n",
    "(\n",
    "    SELECT -- QUERY B : number of businesses in the city, average rating, total number of reviews in that city, nb of High businesses, nb of Mediocre ones.\n",
    "        city,\n",
    "        COUNT(*) as count,\n",
    "        ROUND(AVG(review_count),1) as avg_review_count,\n",
    "        SUM(review_count) as total_reviews,\n",
    "        ROUND(AVG(stars),1) as avg_rating,\n",
    "        SUM(CASE WHEN cat_rating = 'High' THEN 1 ELSE 0 END) AS nb_high,\n",
    "        SUM(CASE WHEN cat_rating = 'Mediocre' THEN 1 ELSE 0 END) AS nb_mediocre\n",
    "    FROM\n",
    "    (\n",
    "        SELECT --QUERY A : assigns a category rating\n",
    "            name,\n",
    "            city,\n",
    "            stars,\n",
    "                CASE\n",
    "                WHEN stars BETWEEN 2 AND 3 THEN 'Mediocre'\n",
    "                WHEN stars BETWEEN 4 AND 5 THEN 'High'\n",
    "                ELSE NULL\n",
    "                END AS\n",
    "            cat_rating,\n",
    "            review_count\n",
    "        FROM business\n",
    "    )\n",
    "    GROUP BY city\n",
    "    HAVING count >= 20\n",
    ")\n",
    "\n",
    "ORDER BY count desc\n",
    "LIMIT 20"
   ]
  },
  {
   "cell_type": "markdown",
   "id": "4fc7b4b5-15ec-4e98-b3ec-5b542f999954",
   "metadata": {},
   "source": [
    "-- 2. Group business based on the ones that are open and the ones that are closed. What differences can you find between the ones \n",
    "-- that are still open and the ones that are closed? List at least two differences and the SQL code you used to arrive at your answer.\n",
    "\n",
    "-- Not exactely sure if is_open boolean means open or not right now, or permanently closed ?\n",
    "\n",
    "-- i. Difference 1:\n",
    "-- ii. Difference 2:"
   ]
  },
  {
   "cell_type": "code",
   "execution_count": 29,
   "id": "f3a7a7d4-405e-45b8-9335-a4e1d94d75c5",
   "metadata": {
    "tags": []
   },
   "outputs": [
    {
     "data": {
      "text/html": [
       "<span style=\"None\">Running query in &#x27;sqlite:///../yelp_10k.sqlite&#x27;</span>"
      ],
      "text/plain": [
       "Running query in 'sqlite:///../yelp_10k.sqlite'"
      ]
     },
     "metadata": {},
     "output_type": "display_data"
    },
    {
     "data": {
      "text/html": [
       "<table>\n",
       "    <thead>\n",
       "        <tr>\n",
       "            <th>is_open</th>\n",
       "            <th>count</th>\n",
       "            <th>avg_review_count</th>\n",
       "            <th>avg_rating</th>\n",
       "        </tr>\n",
       "    </thead>\n",
       "    <tbody>\n",
       "        <tr>\n",
       "            <td>0</td>\n",
       "            <td>2033</td>\n",
       "            <td>39.7</td>\n",
       "            <td>3.5</td>\n",
       "        </tr>\n",
       "        <tr>\n",
       "            <td>1</td>\n",
       "            <td>7967</td>\n",
       "            <td>48.8</td>\n",
       "            <td>3.6</td>\n",
       "        </tr>\n",
       "    </tbody>\n",
       "</table>"
      ],
      "text/plain": [
       "+---------+-------+------------------+------------+\n",
       "| is_open | count | avg_review_count | avg_rating |\n",
       "+---------+-------+------------------+------------+\n",
       "|    0    |  2033 |       39.7       |    3.5     |\n",
       "|    1    |  7967 |       48.8       |    3.6     |\n",
       "+---------+-------+------------------+------------+"
      ]
     },
     "execution_count": 29,
     "metadata": {},
     "output_type": "execute_result"
    }
   ],
   "source": [
    "%%sql\n",
    "SELECT\n",
    "  is_open,\n",
    "  COUNT(*) AS COUNT,\n",
    "  ROUND(AVG(review_count), 1) AS avg_review_count,\n",
    "  ROUND(AVG(stars), 1) AS avg_rating\n",
    "FROM\n",
    "  business\n",
    "GROUP BY\n",
    "  is_open"
   ]
  },
  {
   "cell_type": "markdown",
   "id": "5ffed7b3-0afa-4c1b-8d7b-873908b0ac33",
   "metadata": {},
   "source": [
    "# PART III -  My own analysis"
   ]
  },
  {
   "cell_type": "markdown",
   "id": "1cd4bdd8-3b69-4884-ab66-553d5e749be7",
   "metadata": {},
   "source": [
    "3. For this last part of your analysis, you are going to choose the type of analysis you want to conduct on the Yelp dataset and are going \n",
    "to prepare the data for analysis.\n",
    "\n",
    "Ideas for analysis include:\n",
    "- parsing out keywords and business attributes for sentiment analysis,\n",
    "- clustering businesses to find commonalities or anomalies between them,\n",
    "- predicting the overall star rating for a business,\n",
    "- predicting the number of fans a user will have, and so on.\n",
    "\n",
    "These are just a few examples to get you started, so feel free to be creative and come up with your own problem you want to solve.\n",
    "Provide answers, in-line, to all of the following:\n",
    "\n",
    "i. Indicate the type of analysis you chose to do:\n",
    "ii. Write 1-2 brief paragraphs on the type of data you will need for your analysis and why you chose that data:\n",
    "iii. Output of your finished dataset:\n",
    "iv. Provide the SQL code you used to create your final dataset:"
   ]
  },
  {
   "cell_type": "code",
   "execution_count": 30,
   "id": "edbaba60-2bcf-4c00-ad1b-2460cfbcfcd7",
   "metadata": {
    "tags": []
   },
   "outputs": [
    {
     "data": {
      "text/html": [
       "<span style=\"None\">Running query in &#x27;sqlite:///../yelp_10k.sqlite&#x27;</span>"
      ],
      "text/plain": [
       "Running query in 'sqlite:///../yelp_10k.sqlite'"
      ]
     },
     "metadata": {},
     "output_type": "display_data"
    },
    {
     "data": {
      "text/html": [
       "<table>\n",
       "    <thead>\n",
       "        <tr>\n",
       "            <th>tasty_count</th>\n",
       "            <th>kind_count</th>\n",
       "            <th>welcoming_count</th>\n",
       "            <th>fast_count</th>\n",
       "            <th>hostile_count</th>\n",
       "            <th>cold_count</th>\n",
       "        </tr>\n",
       "    </thead>\n",
       "    <tbody>\n",
       "        <tr>\n",
       "            <td>523</td>\n",
       "            <td>534</td>\n",
       "            <td>99</td>\n",
       "            <td>897</td>\n",
       "            <td>5</td>\n",
       "            <td>329</td>\n",
       "        </tr>\n",
       "    </tbody>\n",
       "</table>"
      ],
      "text/plain": [
       "+-------------+------------+-----------------+------------+---------------+------------+\n",
       "| tasty_count | kind_count | welcoming_count | fast_count | hostile_count | cold_count |\n",
       "+-------------+------------+-----------------+------------+---------------+------------+\n",
       "|     523     |    534     |        99       |    897     |       5       |    329     |\n",
       "+-------------+------------+-----------------+------------+---------------+------------+"
      ]
     },
     "execution_count": 30,
     "metadata": {},
     "output_type": "execute_result"
    }
   ],
   "source": [
    "%%sql\n",
    "SELECT\n",
    "  SUM(\n",
    "    CASE\n",
    "      WHEN text LIKE '%tasty%' THEN 1\n",
    "      ELSE 0\n",
    "    END\n",
    "  ) AS tasty_count,\n",
    "  SUM(\n",
    "    CASE\n",
    "      WHEN text LIKE '%kind%' THEN 1\n",
    "      ELSE 0\n",
    "    END\n",
    "  ) AS kind_count,\n",
    "  SUM(\n",
    "    CASE\n",
    "      WHEN text LIKE '%welcoming%' THEN 1\n",
    "      ELSE 0\n",
    "    END\n",
    "  ) AS welcoming_count,\n",
    "  SUM(\n",
    "    CASE\n",
    "      WHEN text LIKE '%fast%' THEN 1\n",
    "      ELSE 0\n",
    "    END\n",
    "  ) AS fast_count,\n",
    "  SUM(\n",
    "    CASE\n",
    "      WHEN text LIKE '%hostile%' THEN 1\n",
    "      ELSE 0\n",
    "    END\n",
    "  ) AS hostile_count,\n",
    "  SUM(\n",
    "    CASE\n",
    "      WHEN text LIKE '%cold%' THEN 1\n",
    "      ELSE 0\n",
    "    END\n",
    "  ) AS cold_count\n",
    "FROM\n",
    "  review;"
   ]
  },
  {
   "cell_type": "markdown",
   "id": "8f2d057b-52c3-4ee4-b0cf-d746929e7033",
   "metadata": {},
   "source": [
    "## 3A - ADDING A COUNTRY COLUMN"
   ]
  },
  {
   "cell_type": "markdown",
   "id": "f93eb2b5-8395-42e5-b922-5fb8b2a41ed6",
   "metadata": {},
   "source": [
    "--Note : I just realised the dataset wasn't restricted to the US.\n",
    "--But this is made harder by the fact that there isn't a country column, just city and state.\n",
    "-- That's quite unfortunate.\n",
    "\n",
    "-- There's on in Buenos Aires, and cities in scotland, germany"
   ]
  },
  {
   "cell_type": "code",
   "execution_count": 31,
   "id": "4593801d-d0fe-41d9-8b69-8c48aba5d5f6",
   "metadata": {
    "tags": []
   },
   "outputs": [
    {
     "data": {
      "text/html": [
       "<span style=\"None\">Running query in &#x27;sqlite:///../yelp_10k.sqlite&#x27;</span>"
      ],
      "text/plain": [
       "Running query in 'sqlite:///../yelp_10k.sqlite'"
      ]
     },
     "metadata": {},
     "output_type": "display_data"
    },
    {
     "data": {
      "text/html": [
       "<table>\n",
       "    <thead>\n",
       "        <tr>\n",
       "            <th>name</th>\n",
       "            <th>latitude</th>\n",
       "            <th>longitude</th>\n",
       "            <th>state</th>\n",
       "            <th>city</th>\n",
       "            <th>postal_code</th>\n",
       "        </tr>\n",
       "    </thead>\n",
       "    <tbody>\n",
       "    </tbody>\n",
       "</table>"
      ],
      "text/plain": [
       "+------+----------+-----------+-------+------+-------------+\n",
       "| name | latitude | longitude | state | city | postal_code |\n",
       "+------+----------+-----------+-------+------+-------------+\n",
       "+------+----------+-----------+-------+------+-------------+"
      ]
     },
     "execution_count": 31,
     "metadata": {},
     "output_type": "execute_result"
    }
   ],
   "source": [
    "%%sql\n",
    "SELECT\n",
    "  name,\n",
    "  latitude,\n",
    "  longitude,\n",
    "  state,\n",
    "  city,\n",
    "  postal_code\n",
    "FROM\n",
    "  business\n",
    "WHERE\n",
    "  longitude > -65 --too east to be the US\n",
    "  AND latitude < 25 --too south\n",
    "GROUP BY\n",
    "  state\n",
    "ORDER BY\n",
    "  state"
   ]
  },
  {
   "cell_type": "markdown",
   "id": "5d3aa627-c644-4dd6-be6a-e08b1dd9a45a",
   "metadata": {},
   "source": [
    "-- In the whole business, there are 10k entries, but only 23 distinct states\n",
    "\n",
    "-- Let's investigate :"
   ]
  },
  {
   "cell_type": "code",
   "execution_count": 32,
   "id": "d939c1d4-c881-4c4b-b865-522e35dffb7a",
   "metadata": {
    "tags": []
   },
   "outputs": [
    {
     "data": {
      "text/html": [
       "<span style=\"None\">Running query in &#x27;sqlite:///../yelp_10k.sqlite&#x27;</span>"
      ],
      "text/plain": [
       "Running query in 'sqlite:///../yelp_10k.sqlite'"
      ]
     },
     "metadata": {},
     "output_type": "display_data"
    },
    {
     "data": {
      "text/html": [
       "<table>\n",
       "    <thead>\n",
       "        <tr>\n",
       "            <th>state</th>\n",
       "            <th>avg(latitude)</th>\n",
       "            <th>avg(longitude)</th>\n",
       "            <th>nb_of_businesses</th>\n",
       "        </tr>\n",
       "    </thead>\n",
       "    <tbody>\n",
       "        <tr>\n",
       "            <td>AB</td>\n",
       "            <td>53.533211103862236</td>\n",
       "            <td>-113.50501101601792</td>\n",
       "            <td>395</td>\n",
       "        </tr>\n",
       "        <tr>\n",
       "            <td>AZ</td>\n",
       "            <td>32.24746215165541</td>\n",
       "            <td>-110.93462610641994</td>\n",
       "            <td>666</td>\n",
       "        </tr>\n",
       "        <tr>\n",
       "            <td>CA</td>\n",
       "            <td>34.43826687672294</td>\n",
       "            <td>-119.72145021038222</td>\n",
       "            <td>358</td>\n",
       "        </tr>\n",
       "        <tr>\n",
       "            <td>CO</td>\n",
       "            <td>32.0948541</td>\n",
       "            <td>-110.7734914</td>\n",
       "            <td>1</td>\n",
       "        </tr>\n",
       "        <tr>\n",
       "            <td>DE</td>\n",
       "            <td>39.73737778651812</td>\n",
       "            <td>-75.59406686966038</td>\n",
       "            <td>149</td>\n",
       "        </tr>\n",
       "        <tr>\n",
       "            <td>FL</td>\n",
       "            <td>27.984385486345367</td>\n",
       "            <td>-82.56649302181282</td>\n",
       "            <td>1727</td>\n",
       "        </tr>\n",
       "        <tr>\n",
       "            <td>ID</td>\n",
       "            <td>43.61950376009498</td>\n",
       "            <td>-116.27551029220386</td>\n",
       "            <td>259</td>\n",
       "        </tr>\n",
       "        <tr>\n",
       "            <td>IL</td>\n",
       "            <td>38.64109143099345</td>\n",
       "            <td>-90.0201083648993</td>\n",
       "            <td>152</td>\n",
       "        </tr>\n",
       "        <tr>\n",
       "            <td>IN</td>\n",
       "            <td>39.81941494063166</td>\n",
       "            <td>-86.1579908658634</td>\n",
       "            <td>741</td>\n",
       "        </tr>\n",
       "        <tr>\n",
       "            <td>LA</td>\n",
       "            <td>29.961006101460335</td>\n",
       "            <td>-90.10465055870428</td>\n",
       "            <td>678</td>\n",
       "        </tr>\n",
       "    </tbody>\n",
       "</table>\n",
       "<span style=\"font-style:italic;text-align:center;\">Truncated to <a href=\"https://jupysql.ploomber.io/en/latest/api/configuration.html#displaylimit\">displaylimit</a> of 10.</span>"
      ],
      "text/plain": [
       "+-------+--------------------+---------------------+------------------+\n",
       "| state |   avg(latitude)    |    avg(longitude)   | nb_of_businesses |\n",
       "+-------+--------------------+---------------------+------------------+\n",
       "|   AB  | 53.533211103862236 | -113.50501101601792 |       395        |\n",
       "|   AZ  | 32.24746215165541  | -110.93462610641994 |       666        |\n",
       "|   CA  | 34.43826687672294  | -119.72145021038222 |       358        |\n",
       "|   CO  |     32.0948541     |     -110.7734914    |        1         |\n",
       "|   DE  | 39.73737778651812  |  -75.59406686966038 |       149        |\n",
       "|   FL  | 27.984385486345367 |  -82.56649302181282 |       1727       |\n",
       "|   ID  | 43.61950376009498  | -116.27551029220386 |       259        |\n",
       "|   IL  | 38.64109143099345  |  -90.0201083648993  |       152        |\n",
       "|   IN  | 39.81941494063166  |  -86.1579908658634  |       741        |\n",
       "|   LA  | 29.961006101460335 |  -90.10465055870428 |       678        |\n",
       "+-------+--------------------+---------------------+------------------+\n",
       "Truncated to displaylimit of 10."
      ]
     },
     "execution_count": 32,
     "metadata": {},
     "output_type": "execute_result"
    }
   ],
   "source": [
    "%%sql\n",
    "SELECT\n",
    "  state,\n",
    "  AVG(latitude),\n",
    "  AVG(longitude),\n",
    "  COUNT(id) AS nb_of_businesses\n",
    "FROM\n",
    "  business\n",
    "GROUP BY\n",
    "  state\n",
    "ORDER BY\n",
    "  state"
   ]
  },
  {
   "cell_type": "markdown",
   "id": "f29b056e-2c60-430a-afb1-da17797c0db8",
   "metadata": {},
   "source": [
    "For the US, business in only eight states are present :\n",
    "- AZ\tArizona\n",
    "- IL\tIllinois\n",
    "- NC\tNorth Carolina\n",
    "- NV\tNevada\n",
    "- NY\tNew York (Only two businesses, with a third one actually being located in vegas)\n",
    "- OH\tOhio\n",
    "- PA\tPennsylvania\n",
    "- SC\tSouth Carolina\n",
    "- WI\tWisconsin"
   ]
  },
  {
   "cell_type": "markdown",
   "id": "0d9a9c41-5b10-40cc-b36a-363a67b5083d",
   "metadata": {
    "tags": []
   },
   "source": [
    "-- We can see that the dataset isn't perfect, for example :"
   ]
  },
  {
   "cell_type": "code",
   "execution_count": 33,
   "id": "e0de6e7f-bfea-4d8e-b985-f2743550a943",
   "metadata": {
    "tags": []
   },
   "outputs": [
    {
     "data": {
      "text/html": [
       "<span style=\"None\">Running query in &#x27;sqlite:///../yelp_10k.sqlite&#x27;</span>"
      ],
      "text/plain": [
       "Running query in 'sqlite:///../yelp_10k.sqlite'"
      ]
     },
     "metadata": {},
     "output_type": "display_data"
    },
    {
     "data": {
      "text/html": [
       "<table>\n",
       "    <thead>\n",
       "        <tr>\n",
       "            <th>id</th>\n",
       "            <th>name</th>\n",
       "            <th>address</th>\n",
       "            <th>city</th>\n",
       "            <th>state</th>\n",
       "            <th>postal_code</th>\n",
       "            <th>latitude</th>\n",
       "            <th>longitude</th>\n",
       "            <th>stars</th>\n",
       "            <th>review_count</th>\n",
       "            <th>is_open</th>\n",
       "        </tr>\n",
       "    </thead>\n",
       "    <tbody>\n",
       "    </tbody>\n",
       "</table>"
      ],
      "text/plain": [
       "+----+------+---------+------+-------+-------------+----------+-----------+-------+--------------+---------+\n",
       "| id | name | address | city | state | postal_code | latitude | longitude | stars | review_count | is_open |\n",
       "+----+------+---------+------+-------+-------------+----------+-----------+-------+--------------+---------+\n",
       "+----+------+---------+------+-------+-------------+----------+-----------+-------+--------------+---------+"
      ]
     },
     "execution_count": 33,
     "metadata": {},
     "output_type": "execute_result"
    }
   ],
   "source": [
    "%%sql\n",
    "SELECT\n",
    "  *\n",
    "FROM\n",
    "  business\n",
    "WHERE\n",
    "  state = 'NY'"
   ]
  },
  {
   "cell_type": "code",
   "execution_count": 34,
   "id": "8c4a217f-6342-4d9c-ac6a-26472fde88f3",
   "metadata": {
    "tags": []
   },
   "outputs": [
    {
     "data": {
      "text/html": [
       "<span style=\"None\">Running query in &#x27;sqlite:///../yelp_10k.sqlite&#x27;</span>"
      ],
      "text/plain": [
       "Running query in 'sqlite:///../yelp_10k.sqlite'"
      ]
     },
     "metadata": {},
     "output_type": "display_data"
    },
    {
     "data": {
      "text/html": [
       "<table>\n",
       "    <thead>\n",
       "        <tr>\n",
       "            <th>text</th>\n",
       "        </tr>\n",
       "    </thead>\n",
       "    <tbody>\n",
       "        <tr>\n",
       "            <td>If you decide to eat here, just be aware it is going to take about 2 hours from beginning to end. We have tried it multiple times, because I want to like it! I have been to it's other locations in NJ and never had a bad experience. <br><br>The food is good, but it takes a very long time to come out. The waitstaff is very young, but usually pleasant. We have just had too many experiences where we spent way too long waiting. We usually opt for another diner or restaurant on the weekends, in order to be done quicker.</td>\n",
       "        </tr>\n",
       "        <tr>\n",
       "            <td>I've taken a lot of spin classes over the years, and nothing compares to the classes at Body Cycle. From the nice, clean space and amazing bikes, to the welcoming and motivating instructors, every class is a top notch work out.<br><br>For anyone who struggles to fit workouts in, the online scheduling system makes it easy to plan ahead (and there's no need to line up way in advanced like many gyms make you do).<br><br>There is no way I can write this review without giving Russell, the owner of Body Cycle, a shout out. Russell's passion for fitness and cycling is so evident, as is his desire for all of his clients to succeed. He is always dropping in to classes to check in/provide encouragement, and is open to ideas and recommendations from anyone. Russell always wears a smile on his face, even when he's kicking your butt in class!</td>\n",
       "        </tr>\n",
       "        <tr>\n",
       "            <td>Family diner. Had the buffet. Eclectic assortment: a large chicken leg, fried jalapeño, tamale, two rolled grape leaves, fresh melon. All good. Lots of Mexican choices there. Also has a menu with breakfast served all day long. Friendly, attentive staff. Good place for a casual relaxed meal with no expectations. Next to the Clarion Hotel.</td>\n",
       "        </tr>\n",
       "        <tr>\n",
       "            <td>Wow!  Yummy, different,  delicious.   Our favorite is the lamb curry and korma.  With 10 different kinds of naan!!!  Don't let the outside deter you (because we almost changed our minds)...go in and try something new!   You'll be glad you did!</td>\n",
       "        </tr>\n",
       "        <tr>\n",
       "            <td>Cute interior and owner (?) gave us tour of upcoming patio/rooftop area which will be great on beautiful days like today. Cheese curds were very good and very filling. Really like that sandwiches come w salad, esp after eating too many curds! Had the onion, gruyere, tomato sandwich. Wasn't too much cheese which I liked. Needed something else...pepper jelly maybe. Would like to see more menu options added such as salads w fun cheeses. Lots of beer and wine as well as limited cocktails. Next time I will try one of the draft wines.</td>\n",
       "        </tr>\n",
       "        <tr>\n",
       "            <td>I am a long term frequent customer of this establishment. I just went in to order take out (3 apps) and was told they're too busy to do it. Really? The place is maybe half full at best. Does your dick reach your ass? Yes? Go fuck yourself! I'm a frequent customer AND great tipper. Glad that Kanella just opened. NEVER going back to dmitris!</td>\n",
       "        </tr>\n",
       "        <tr>\n",
       "            <td>Loved this tour! I grabbed a groupon and the price was great. It was the perfect way to explore New Orleans for someone who'd never been there before and didn't know a lot about the history of the city. Our tour guide had tons of interesting tidbits about the city, and I really enjoyed the experience. Highly recommended tour. I actually thought we were just going to tour through the cemetery, but she took us around the French Quarter for the first hour, and the cemetery for the second half of the tour. You'll meet up in front of a grocery store (seems strange at first, but it's not terribly hard to find, and it'll give you a chance to get some water), and you'll stop at a visitor center part way through the tour for a bathroom break if needed. This tour was one of my favorite parts of my trip!</td>\n",
       "        </tr>\n",
       "        <tr>\n",
       "            <td>Amazingly amazing wings and homemade bleu cheese. Had the ribeye: tender, perfectly prepared, delicious. Nice selection of craft beers. Would DEFINITELY recommend checking out this hidden gem.</td>\n",
       "        </tr>\n",
       "        <tr>\n",
       "            <td>This easter instead of going to Lopez Lake we went to Los Padres National Forest which is really pretty but if you go to white rock the staff needs to cut down all the dead grass that invades the rock and the water. I would wish the staff would also clean or get rid of the dead grass that's also living by the water. The water is really green and dirty. Los padres national forest staff need to work hard to maintain this forest looking pretty and not like a dumpster. Even Cachuma lake looks like they put a bit more effort.</td>\n",
       "        </tr>\n",
       "        <tr>\n",
       "            <td>Had a party of 6 here for hibachi. Our waitress brought our separate sushi orders on one plate so we couldn't really tell who's was who's and forgot several items on an order. I understand making mistakes but the restaraunt was really quiet so we were kind of surprised. Usually hibachi is a fun lively experience and our  cook  said maybe three words, but he cooked very well his name was Francisco. Service was fishy, food was pretty good, and im hoping it was just an off night here. But for the money I wouldn't go back.</td>\n",
       "        </tr>\n",
       "    </tbody>\n",
       "</table>\n",
       "<span style=\"font-style:italic;text-align:center;\">Truncated to <a href=\"https://jupysql.ploomber.io/en/latest/api/configuration.html#displaylimit\">displaylimit</a> of 10.</span>"
      ],
      "text/plain": [
       "+--------------------------------------------------------------------------------------------------------------------------------------------------------------------------------------------------------------------------------------------------------------------------------------------------------------------------------------------------------------------------------------------------------------------------------------------------------------------------------------------------------------------------------------------------------------------------------------------------------------------------------------------------------------------------------------------------------------------------------------------------------------------------------------------------------------------------------------+\n",
       "|                                                                                                                                                                                                                                                                                                                                                                                                                 text                                                                                                                                                                                                                                                                                                                                                                                                                 |\n",
       "+--------------------------------------------------------------------------------------------------------------------------------------------------------------------------------------------------------------------------------------------------------------------------------------------------------------------------------------------------------------------------------------------------------------------------------------------------------------------------------------------------------------------------------------------------------------------------------------------------------------------------------------------------------------------------------------------------------------------------------------------------------------------------------------------------------------------------------------+\n",
       "|                                                                                                                                                                                                                                                                                               If you decide to eat here, just be aware it is going to take about 2 hours from beginning to end. We have tried it multiple times, because I want to like it! I have been to it's other locations in NJ and never had a bad experience.                                                                                                                                                                                                                                                                                                |\n",
       "|                                                                                                                                                                                                                                                                                                                                                                                                                                                                                                                                                                                                                                                                                                                                                                                                                                      |\n",
       "|                                                                                                                                                                                                                                                                       The food is good, but it takes a very long time to come out. The waitstaff is very young, but usually pleasant. We have just had too many experiences where we spent way too long waiting. We usually opt for another diner or restaurant on the weekends, in order to be done quicker.                                                                                                                                                                                                                                                                        |\n",
       "|                                                                                                                                                                                                                                                                                                 I've taken a lot of spin classes over the years, and nothing compares to the classes at Body Cycle. From the nice, clean space and amazing bikes, to the welcoming and motivating instructors, every class is a top notch work out.                                                                                                                                                                                                                                                                                                  |\n",
       "|                                                                                                                                                                                                                                                                                                                                                                                                                                                                                                                                                                                                                                                                                                                                                                                                                                      |\n",
       "|                                                                                                                                                                                                                                                                                                                          For anyone who struggles to fit workouts in, the online scheduling system makes it easy to plan ahead (and there's no need to line up way in advanced like many gyms make you do).                                                                                                                                                                                                                                                                                                                          |\n",
       "|                                                                                                                                                                                                                                                                                                                                                                                                                                                                                                                                                                                                                                                                                                                                                                                                                                      |\n",
       "|                                                                                                                                                                                                 There is no way I can write this review without giving Russell, the owner of Body Cycle, a shout out. Russell's passion for fitness and cycling is so evident, as is his desire for all of his clients to succeed. He is always dropping in to classes to check in/provide encouragement, and is open to ideas and recommendations from anyone. Russell always wears a smile on his face, even when he's kicking your butt in class!                                                                                                                                                                                                 |\n",
       "|                                                                                                                                                                                                                                         Family diner. Had the buffet. Eclectic assortment: a large chicken leg, fried jalapeño, tamale, two rolled grape leaves, fresh melon. All good. Lots of Mexican choices there. Also has a menu with breakfast served all day long. Friendly, attentive staff. Good place for a casual relaxed meal with no expectations. Next to the Clarion Hotel.                                                                                                                                                                                                                                          |\n",
       "|                                                                                                                                                                                                                                                                                         Wow!  Yummy, different,  delicious.   Our favorite is the lamb curry and korma.  With 10 different kinds of naan!!!  Don't let the outside deter you (because we almost changed our minds)...go in and try something new!   You'll be glad you did!                                                                                                                                                                                                                                                                                          |\n",
       "|                                                                                                                                        Cute interior and owner (?) gave us tour of upcoming patio/rooftop area which will be great on beautiful days like today. Cheese curds were very good and very filling. Really like that sandwiches come w salad, esp after eating too many curds! Had the onion, gruyere, tomato sandwich. Wasn't too much cheese which I liked. Needed something else...pepper jelly maybe. Would like to see more menu options added such as salads w fun cheeses. Lots of beer and wine as well as limited cocktails. Next time I will try one of the draft wines.                                                                                                                                        |\n",
       "|                                                                                                                                                                                                                                        I am a long term frequent customer of this establishment. I just went in to order take out (3 apps) and was told they're too busy to do it. Really? The place is maybe half full at best. Does your dick reach your ass? Yes? Go fuck yourself! I'm a frequent customer AND great tipper. Glad that Kanella just opened. NEVER going back to dmitris!                                                                                                                                                                                                                                         |\n",
       "| Loved this tour! I grabbed a groupon and the price was great. It was the perfect way to explore New Orleans for someone who'd never been there before and didn't know a lot about the history of the city. Our tour guide had tons of interesting tidbits about the city, and I really enjoyed the experience. Highly recommended tour. I actually thought we were just going to tour through the cemetery, but she took us around the French Quarter for the first hour, and the cemetery for the second half of the tour. You'll meet up in front of a grocery store (seems strange at first, but it's not terribly hard to find, and it'll give you a chance to get some water), and you'll stop at a visitor center part way through the tour for a bathroom break if needed. This tour was one of my favorite parts of my trip! |\n",
       "|                                                                                                                                                                                                                                                                                                                   Amazingly amazing wings and homemade bleu cheese. Had the ribeye: tender, perfectly prepared, delicious. Nice selection of craft beers. Would DEFINITELY recommend checking out this hidden gem.                                                                                                                                                                                                                                                                                                                   |\n",
       "|                                                                                                                                            This easter instead of going to Lopez Lake we went to Los Padres National Forest which is really pretty but if you go to white rock the staff needs to cut down all the dead grass that invades the rock and the water. I would wish the staff would also clean or get rid of the dead grass that's also living by the water. The water is really green and dirty. Los padres national forest staff need to work hard to maintain this forest looking pretty and not like a dumpster. Even Cachuma lake looks like they put a bit more effort.                                                                                                                                            |\n",
       "|                                                                                                                                             Had a party of 6 here for hibachi. Our waitress brought our separate sushi orders on one plate so we couldn't really tell who's was who's and forgot several items on an order. I understand making mistakes but the restaraunt was really quiet so we were kind of surprised. Usually hibachi is a fun lively experience and our  cook  said maybe three words, but he cooked very well his name was Francisco. Service was fishy, food was pretty good, and im hoping it was just an off night here. But for the money I wouldn't go back.                                                                                                                                             |\n",
       "+--------------------------------------------------------------------------------------------------------------------------------------------------------------------------------------------------------------------------------------------------------------------------------------------------------------------------------------------------------------------------------------------------------------------------------------------------------------------------------------------------------------------------------------------------------------------------------------------------------------------------------------------------------------------------------------------------------------------------------------------------------------------------------------------------------------------------------------+\n",
       "Truncated to displaylimit of 10."
      ]
     },
     "execution_count": 34,
     "metadata": {},
     "output_type": "execute_result"
    }
   ],
   "source": [
    "%%sql\n",
    "SELECT\n",
    "  text\n",
    "FROM\n",
    "  review\n",
    "LIMIT\n",
    "  10"
   ]
  }
 ],
 "metadata": {
  "kernelspec": {
   "display_name": "Python 3 (ipykernel)",
   "language": "python",
   "name": "python3"
  },
  "language_info": {
   "codemirror_mode": {
    "name": "ipython",
    "version": 3
   },
   "file_extension": ".py",
   "mimetype": "text/x-python",
   "name": "python",
   "nbconvert_exporter": "python",
   "pygments_lexer": "ipython3",
   "version": "3.11.5"
  }
 },
 "nbformat": 4,
 "nbformat_minor": 5
}
